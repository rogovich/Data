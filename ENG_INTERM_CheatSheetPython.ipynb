{
 "cells": [
  {
   "cell_type": "markdown",
   "metadata": {
    "id": "73NmR6qzjkCa"
   },
   "source": [
    "# Cheat Sheet\n",
    "\n",
    "### Data Types\n",
    "\n",
    "| What they are called in English | What they are called in Python | \n",
    "| :- | :- |\n",
    "| **\"Natural\" data types** | \n",
    "| integer | `int` |\n",
    "| floating-point number | `float` |\n",
    "| boolean / logical variable | `bool` |\n",
    "| **Ordered data types (sequences)** |\n",
    "| string | `str` |\n",
    "| list | `list` |\n",
    "| tuple | `tuple` |\n",
    "| **Unordered data types (collections)** |\n",
    "| set | `set` |\n",
    "| dictionary | `dict` |\n",
    "\n",
    "\n",
    "| Immutable data types | Mutable data types |\n",
    "| --- | --- |\n",
    "| tuple | list |\n",
    "| string | set\n",
    "| integer and floating-point number | dictionary |\n",
    "| logical variable\n",
    "\n",
    "\n",
    "| Data type | Data structure type | How to access elements |\n",
    "| --- | --- | --- |\n",
    "| tuples | ordered | by index |\n",
    "| lists |  ordered | by index |\n",
    "| strings  | ordered | by index |\n",
    "| sets | unordered | unavailable |\n",
    "| dictionaries | unordered | by key\n",
    "\n",
    "### Key Functions\n",
    "`input()`  \n",
    "reads input (string).\n",
    "\n",
    "`print(x, sep=',', end='\\n')`  \n",
    "diplays output on the screen. `x` is the argument to be printed. All arguments are separated by commas.\n",
    "\n",
    "* `sep` is used to control the separator between arguments (whitespace by default), \n",
    "*`end` is used to set up the character that will end a line (new line character by default). \n",
    "\n",
    "`f'Hello, {name}!'`  \n",
    "a formatted string sequence (`f-string`), where `name` will be replaced with a `name` variable's value. For example, if `name = 'Olya'`, the string in the example will be 'Hello, Olya!'`\n",
    "\n",
    "`round(x, n)`\n",
    "rounds number x to n decimal places"
   ]
  },
  {
   "cell_type": "code",
   "execution_count": 1,
   "metadata": {
    "colab": {
     "base_uri": "https://localhost:8080/"
    },
    "id": "ARK37p0MjkCk",
    "outputId": "0944dea1-9fb5-45be-f943-e7b26f53cb91"
   },
   "outputs": [
    {
     "name": "stdout",
     "output_type": "stream",
     "text": [
      "2.53242;3.521515!\n",
      "n1 * n2 = 6.05\n"
     ]
    }
   ],
   "source": [
    "n1 = 2.53242\n",
    "n2 = 3.521515\n",
    "\n",
    "print(n1, n2, sep=';', end='!\\n')\n",
    "print(f'n1 * n2 = {round(n1 + n2, 2)}')"
   ]
  },
  {
   "cell_type": "markdown",
   "metadata": {
    "id": "Wf2ym9BGjkCm"
   },
   "source": [
    "`map(function name, sequence)`  \n",
    "applies a specified function to all elements in a sequence"
   ]
  },
  {
   "cell_type": "code",
   "execution_count": 2,
   "metadata": {
    "colab": {
     "base_uri": "https://localhost:8080/"
    },
    "id": "nN53nGONjkCm",
    "outputId": "8dd61524-113e-42c5-d92e-546dc7bcaabe"
   },
   "outputs": [
    {
     "name": "stdout",
     "output_type": "stream",
     "text": [
      "['cat', 'dog', 'duckmole']\n"
     ]
    }
   ],
   "source": [
    "# use map to lowercase the strings below\n",
    "print(list(map(str.lower, ['cAt', 'dOg', 'DucKmOle'])))"
   ]
  },
  {
   "cell_type": "code",
   "execution_count": 3,
   "metadata": {
    "colab": {
     "base_uri": "https://localhost:8080/"
    },
    "id": "1Pm0qxmOjkCn",
    "outputId": "4a926cd7-b90a-497a-8e98-640855569013"
   },
   "outputs": [
    {
     "name": "stdout",
     "output_type": "stream",
     "text": [
      "2 3 4\n",
      "[2, 3, 4]\n"
     ]
    }
   ],
   "source": [
    "# use map to convert a list of strings into a list of integers\n",
    "numbers = input().split()\n",
    "print(list(map(int, numbers)))"
   ]
  },
  {
   "cell_type": "markdown",
   "metadata": {
    "id": "P6WI7Q1UjkCn"
   },
   "source": [
    "### Data Type Conversion Functions\n",
    "\n",
    "`float()`  \n",
    "floating-point number\n",
    "\n",
    "`int()`  \n",
    "integer\n",
    "\n",
    "`str()`   \n",
    "string\n",
    "\n",
    "`list()`   \n",
    "list\n",
    "\n",
    "`set()`  \n",
    "set\n",
    "\n",
    "`dict()`  \n",
    "dictionary\n",
    "\n"
   ]
  },
  {
   "cell_type": "markdown",
   "metadata": {
    "id": "2re9_o1wjkCo"
   },
   "source": [
    "### Arithmetic Operators"
   ]
  },
  {
   "cell_type": "code",
   "execution_count": null,
   "metadata": {
    "id": "RrUpZr4QjkCo",
    "outputId": "614617b9-1885-43d0-c37e-c4e814ced225"
   },
   "outputs": [
    {
     "name": "stdout",
     "output_type": "stream",
     "text": [
      "13\n",
      "9\n",
      "22\n",
      "121\n",
      "5.5\n",
      "5\n",
      "1\n"
     ]
    }
   ],
   "source": [
    "print(11 + 2)   # Addition\n",
    "print(11 - 2)   # Subtraction\n",
    "print(11 * 2)   # Multiplication\n",
    "print(11 ** 2)  # Exponentiation\n",
    "print(11 / 2)   # Division. The result will be a fraction, just like in a calculator\n",
    "print(11 // 2)  # Floor division. The result will be an integer\n",
    "print(11 % 2)   # Modulo. The result will be the remainder of dividing two numbers"
   ]
  },
  {
   "cell_type": "code",
   "execution_count": null,
   "metadata": {
    "id": "IiduOf2TjkCp",
    "outputId": "5d3d8791-c9c2-4a4e-b5a9-176d28766b7f"
   },
   "outputs": [
    {
     "name": "stdout",
     "output_type": "stream",
     "text": [
      "4\n",
      "4\n"
     ]
    }
   ],
   "source": [
    "# \"Reduction\" of arithmetic operators\n",
    "x = 3\n",
    "y = 3\n",
    "x += 1\n",
    "y = y + 1\n",
    "print(x)\n",
    "print(y)"
   ]
  },
  {
   "cell_type": "code",
   "execution_count": null,
   "metadata": {
    "id": "3On3423GjkCq",
    "outputId": "31f0eb9e-9c14-4f96-d39e-8c02ff0d65cf"
   },
   "outputs": [
    {
     "name": "stdout",
     "output_type": "stream",
     "text": [
      "2\n",
      "2\n"
     ]
    }
   ],
   "source": [
    "x = 3\n",
    "y = 3\n",
    "x -= 1\n",
    "y = y - 1\n",
    "print(x)\n",
    "print(y)"
   ]
  },
  {
   "cell_type": "code",
   "execution_count": null,
   "metadata": {
    "id": "_iPmt3m-jkCq",
    "outputId": "5838d774-50ca-4668-8059-96121110a837"
   },
   "outputs": [
    {
     "name": "stdout",
     "output_type": "stream",
     "text": [
      "6\n",
      "6\n"
     ]
    }
   ],
   "source": [
    "x = 3\n",
    "y = 3\n",
    "x *= 2\n",
    "y = y * 2\n",
    "print(x)\n",
    "print(y)"
   ]
  },
  {
   "cell_type": "code",
   "execution_count": null,
   "metadata": {
    "id": "kyBxeDa_jkCr",
    "outputId": "b7311c9e-926e-43d6-b3ab-8191846d3ed4"
   },
   "outputs": [
    {
     "name": "stdout",
     "output_type": "stream",
     "text": [
      "1.5\n",
      "1.5\n"
     ]
    }
   ],
   "source": [
    "x = 3\n",
    "y = 3\n",
    "x /= 2\n",
    "y = y / 2\n",
    "print(x)\n",
    "print(y)"
   ]
  },
  {
   "cell_type": "markdown",
   "metadata": {
    "id": "kJUg24-ajkCs"
   },
   "source": [
    "### Logical Operators"
   ]
  },
  {
   "cell_type": "code",
   "execution_count": null,
   "metadata": {
    "id": "r-fBdOU3jkCt",
    "outputId": "da4cc7ab-ad31-4357-ccf9-d3cf7c96c61d"
   },
   "outputs": [
    {
     "name": "stdout",
     "output_type": "stream",
     "text": [
      "True\n",
      "False\n",
      "False\n",
      "False\n",
      "True\n",
      "True\n",
      "True\n",
      "False\n"
     ]
    }
   ],
   "source": [
    "print(2 + 2 == 4) # equal to\n",
    "print(2 + 2 != 4) # not equal to\n",
    "print(2 + 2 < 4)  # less than\n",
    "print(2 + 2 > 4)  # greater than\n",
    "print(2 + 2 >= 4) # greater than or equal to\n",
    "print(2 + 2 <= 4) # less than or equal to\n",
    "print('o' in 'Hello') # checks if a value is found in a sequence\n",
    "print('o' not in 'Hello') # checks if a value is missing in a sequence"
   ]
  },
  {
   "cell_type": "markdown",
   "metadata": {
    "id": "AI3I-rKCjkCu"
   },
   "source": [
    "`and`  \n",
    "returns `True`if both conditions are true and returns `False` in all other cases\n",
    "\n",
    "`or`  \n",
    "returns `True` when one or both conditions are true and returns `False`when both are false\n",
    "\n",
    "`not` changes `True` to `False` and vice versa"
   ]
  },
  {
   "cell_type": "code",
   "execution_count": null,
   "metadata": {
    "id": "50G5xqyRjkCu",
    "outputId": "caa19a06-1b6d-4523-f2f4-afe7a9d0453f"
   },
   "outputs": [
    {
     "name": "stdout",
     "output_type": "stream",
     "text": [
      "True\n",
      "False\n"
     ]
    },
    {
     "data": {
      "text/plain": [
       "False"
      ]
     },
     "execution_count": 11,
     "metadata": {},
     "output_type": "execute_result"
    }
   ],
   "source": [
    "age = 19\n",
    "print((age >= 18) and (age < 65)) # age 18 or older AND under 65\n",
    "print((age < 18) or (age >= 65)) # age under 18 OR 65 or older\n",
    "not(age == 19) # logical negation  "
   ]
  },
  {
   "cell_type": "markdown",
   "metadata": {
    "id": "MpORtqNbjkCv"
   },
   "source": [
    "### Conditional Operator: Example"
   ]
  },
  {
   "cell_type": "code",
   "execution_count": null,
   "metadata": {
    "colab": {
     "base_uri": "https://localhost:8080/"
    },
    "id": "ZWFm5q3RjkCv",
    "outputId": "c70433be-8144-4ef3-c0a5-f1de4b7de7c5"
   },
   "outputs": [
    {
     "name": "stdout",
     "output_type": "stream",
     "text": [
      "Male\n"
     ]
    }
   ],
   "source": [
    "sex = 'male'\n",
    "if sex == 'male':\n",
    "    print('Male')\n",
    "elif sex == 'female':\n",
    "    print('Female')\n",
    "else:\n",
    "    print('Sex undefined')"
   ]
  },
  {
   "cell_type": "markdown",
   "metadata": {
    "id": "BNJwoy7BjkCw"
   },
   "source": [
    "### While Loop: Examples"
   ]
  },
  {
   "cell_type": "code",
   "execution_count": null,
   "metadata": {
    "id": "9RkFvCr3jkCy",
    "outputId": "3acb0a6e-038c-4bc4-d6d4-97b2df2acd30"
   },
   "outputs": [
    {
     "name": "stdout",
     "output_type": "stream",
     "text": [
      "1\n",
      "2\n",
      "3\n",
      "4\n",
      "5\n"
     ]
    }
   ],
   "source": [
    "# print all numbers from 1 to x, inclusive\n",
    "x = int(input())\n",
    "n = 1\n",
    "while n <= x:\n",
    "    print(n)\n",
    "    n = n + 1"
   ]
  },
  {
   "cell_type": "code",
   "execution_count": null,
   "metadata": {
    "colab": {
     "base_uri": "https://localhost:8080/"
    },
    "id": "sklbYtGOjkCy",
    "outputId": "9f4cf343-06de-497c-80e4-627a3c23fa24"
   },
   "outputs": [
    {
     "name": "stdout",
     "output_type": "stream",
     "text": [
      "cat\n",
      "capybara\n",
      "duckmole\n",
      "end\n",
      "['cat', 'capybara', 'duckmole']\n"
     ]
    }
   ],
   "source": [
    "# keep saving to the animals list until \"end\" is entered \n",
    "animals = []\n",
    "while True:\n",
    "    animal = input()\n",
    "    if animal == 'end':\n",
    "        break\n",
    "    animals.append(animal)\n",
    "    \n",
    "print(animals)"
   ]
  },
  {
   "cell_type": "markdown",
   "metadata": {
    "id": "ZPtAfnDOjkCz"
   },
   "source": [
    "### *For* Loop: Examples\n",
    "You can use `for` loop to iterate over elements in strings, lists, tuples, sets, and dictionary keys."
   ]
  },
  {
   "cell_type": "code",
   "execution_count": null,
   "metadata": {
    "colab": {
     "base_uri": "https://localhost:8080/"
    },
    "id": "ShxtyYAQjkCz",
    "outputId": "6ea8c062-2caa-4ab5-e4bf-b56d3e316742"
   },
   "outputs": [
    {
     "name": "stdout",
     "output_type": "stream",
     "text": [
      "Masha\n",
      "Misha\n",
      "Glasha\n"
     ]
    }
   ],
   "source": [
    "# iterate over elements in a list\n",
    "students = ['Masha', 'Misha', 'Glasha']\n",
    "for st in students:\n",
    "    print(st)"
   ]
  },
  {
   "cell_type": "code",
   "execution_count": null,
   "metadata": {
    "colab": {
     "base_uri": "https://localhost:8080/"
    },
    "id": "2dLLlYY-jkCz",
    "outputId": "bd583f9f-6375-4525-e7e3-191093a51594"
   },
   "outputs": [
    {
     "name": "stdout",
     "output_type": "stream",
     "text": [
      "Masha\n",
      "Misha\n",
      "Glasha\n"
     ]
    }
   ],
   "source": [
    "# use range() to iterate over indices\n",
    "students = ['Masha', 'Misha', 'Glasha']\n",
    "for i in range(len(students)):\n",
    "    print(students[i])"
   ]
  },
  {
   "cell_type": "code",
   "execution_count": null,
   "metadata": {
    "id": "n6Y4DUe5jkC0",
    "outputId": "dd67559e-3b46-4831-d27a-975bd950faa3"
   },
   "outputs": [
    {
     "name": "stdout",
     "output_type": "stream",
     "text": [
      "1 x 1 = 1\n",
      "1 x 2 = 2\n",
      "1 x 3 = 3\n",
      "---------\n",
      "2 x 1 = 2\n",
      "2 x 2 = 4\n",
      "2 x 3 = 6\n",
      "---------\n",
      "3 x 1 = 3\n",
      "3 x 2 = 6\n",
      "3 x 3 = 9\n",
      "---------\n"
     ]
    }
   ],
   "source": [
    "# Nested loop: print the multiplication table for 1, 2, 3\n",
    "for i in range(1,4):\n",
    "    for j in range(1,4):\n",
    "        print(f'{i} x {j} = {i * j}')\n",
    "    print('-'*9)"
   ]
  },
  {
   "cell_type": "code",
   "execution_count": null,
   "metadata": {
    "id": "yPJDmcZqjkC0",
    "outputId": "913d1995-9f18-46ec-e372-6110285740c9"
   },
   "outputs": [
    {
     "name": "stdout",
     "output_type": "stream",
     "text": [
      "Masha\n",
      "5\n",
      "---------\n",
      "Petya\n",
      "4\n",
      "---------\n"
     ]
    }
   ],
   "source": [
    "# Nested loop: iterate over a list of lists\n",
    "students = [['Masha', 5], ['Petya', 4]]\n",
    "\n",
    "for st in students:\n",
    "    for item in st:\n",
    "        print(item)\n",
    "    print('-'*9)"
   ]
  },
  {
   "cell_type": "markdown",
   "metadata": {
    "id": "Qprgyar0jkC0"
   },
   "source": [
    "### Sequence Operations (Strings, Tuples, Lists)\n",
    "\n",
    "Operations listed below work not only for strings but also for lists and tuples."
   ]
  },
  {
   "cell_type": "code",
   "execution_count": null,
   "metadata": {
    "id": "Bq5H94OljkC1",
    "outputId": "e7ecc223-694e-4418-fd16-05017a76d59d"
   },
   "outputs": [
    {
     "name": "stdout",
     "output_type": "stream",
     "text": [
      "Hello Oleg\n",
      "HelloHello\n",
      "e\n",
      "o\n",
      "5\n"
     ]
    }
   ],
   "source": [
    "print('Hello' + ' Oleg') # concatenates strings\n",
    "print('Hello' * 2)       # repeates strings\n",
    "print('Hello'[1])        # accesses an element by index, returns the second character\n",
    "print('Hello'[-1])       # accesses an element by index, returns the last character\n",
    "print(len('Hello'))      # returns the number of elements in a string"
   ]
  },
  {
   "cell_type": "markdown",
   "metadata": {
    "id": "caj-1c3HjkC1"
   },
   "source": [
    "If you try to access an element that is missing in the sequence by index, the program will show an error."
   ]
  },
  {
   "cell_type": "markdown",
   "metadata": {
    "id": "CgAwbwNwjkC1"
   },
   "source": [
    "### Slices\n",
    "You can use slices to simultaneously access several characters in a string or elements in a sequence:\n",
    "\n",
    "1. `'Hello'[2:4]` accesses the characters with indices 2 and 3 in `Hello`: `ll`;\n",
    "2. `'Hello'[:3]` accesses all characters starting from index 0 to index 2: `Hel`;\n",
    "3. `'Hello'[2:]` accesses all characters from index 2 up to the end of the string: `llo`;\n",
    "4. `'Hello'[:]` accesses all characters in the string: `Hello`;\n",
    "5. `'Hello'[-4:-1]` accesses characters from 4 to 1 (reverse numbering): `ell`\n",
    "6. `'Hello'[::2]` outputs every other character in a word (step size=2): `Hlo`"
   ]
  },
  {
   "cell_type": "code",
   "execution_count": null,
   "metadata": {
    "colab": {
     "base_uri": "https://localhost:8080/"
    },
    "id": "jWyAd3EUjkC1",
    "outputId": "a6ab3d07-7b8f-4c12-e5b9-54b1a9669352"
   },
   "outputs": [
    {
     "name": "stdout",
     "output_type": "stream",
     "text": [
      "String slice for \"Hello\"[2:4]: ll\n",
      "String slice for \"Hello\"[:3]: Hel\n",
      "String slice for \"Hello\"[2:]: llo\n",
      "String slice for \"Hello\"[:]: Hello\n",
      "String slice for \"Hello\"[-4:-1]: ell\n",
      "String slice for \"Hello\"[::2]: Hlo\n"
     ]
    }
   ],
   "source": [
    "print(f'String slice for \"Hello\"[2:4]: {\"Hello\"[2:4]}')\n",
    "print(f'String slice for \"Hello\"[:3]: {\"Hello\"[:3]}')\n",
    "print(f'String slice for \"Hello\"[2:]: {\"Hello\"[2:]}')\n",
    "print(f'String slice for \"Hello\"[:]: {\"Hello\"[:]}')\n",
    "print(f'String slice for \"Hello\"[-4:-1]: {\"Hello\"[-4:-1]}')\n",
    "print(f'String slice for \"Hello\"[::2]: {\"Hello\"[::2]}')"
   ]
  },
  {
   "cell_type": "markdown",
   "metadata": {
    "id": "X4eVDArojkC2"
   },
   "source": [
    "### Lists"
   ]
  },
  {
   "cell_type": "code",
   "execution_count": 4,
   "metadata": {
    "colab": {
     "base_uri": "https://localhost:8080/"
    },
    "id": "Ij60XfbNjkC2",
    "outputId": "d7f78a9b-e54e-4197-f133-a15f9a00df61"
   },
   "outputs": [
    {
     "name": "stdout",
     "output_type": "stream",
     "text": [
      "['Dasha', 'Misha', 'Glasha']\n",
      "Dasha Misha Glasha\n"
     ]
    }
   ],
   "source": [
    "students = ['Masha', 'Misha', 'Glasha']\n",
    "students[0] = 'Dasha' # replace element in a list\n",
    "print(students)\n",
    "print(*students) # 'unzip' the list: print all elements one by one"
   ]
  },
  {
   "cell_type": "markdown",
   "metadata": {
    "id": "wD-XID5kjkC2"
   },
   "source": [
    "* `.append()` adds a new element to the existing list\n",
    "* `.remove()` removes a given element from an existing list\n",
    "* `.count()` counts how many times a given element is found in the list\n",
    "* `.index()` returns the index of the first match for a given element\n",
    "* `.extend()` adds all the elements of an iterable list to the end of a given list\n",
    "\n",
    "`.append()`, `.extend()`, and `.remove()` methods change the original list.\n",
    "\n",
    "`.count()` and `.index()` can also be applied to tuples."
   ]
  },
  {
   "cell_type": "code",
   "execution_count": 5,
   "metadata": {
    "colab": {
     "base_uri": "https://localhost:8080/"
    },
    "id": "X495GtmqjkC2",
    "outputId": "276e42f6-4dfc-4e7b-c0a3-37c97e0fdd79"
   },
   "outputs": [
    {
     "name": "stdout",
     "output_type": "stream",
     "text": [
      "Original list: ['milk', 'bread', 'sour cream', 'milk']\n",
      "List with yoghurt: ['milk', 'bread', 'sour cream', 'milk', 'yoghurt']\n",
      "List without sour cream: ['milk', 'bread', 'milk', 'yoghurt']\n",
      "List without sour cream: ['milk', 'bread', 'milk', 'yoghurt', 'chocolate', 'cookies']\n",
      "Milk is found 2 times in the list.\n",
      "The index of the first occurrence for milk is 0.\n",
      "The index of the first occurrence for yoghurt is 3.\n",
      "\n",
      "Milk is found 2 times in the list.\n",
      "The index of the first occurrence for milk is 0.\n",
      "The index of the first occurrence for yoghurt is 4.\n"
     ]
    }
   ],
   "source": [
    "shopping_list = ['milk', 'bread', 'sour cream', 'milk']\n",
    "print(f'Original list: {shopping_list}')  # print the original list\n",
    "\n",
    "shopping_list.append('yoghurt')               # add yoghurt to the source list\n",
    "print(f'List with yoghurt: {shopping_list}')  # print the list with yoghurt\n",
    "\n",
    "shopping_list.remove('sour cream')                 # remove sour cream from the list\n",
    "print(f'List without sour cream: {shopping_list}')   # print the list without sour cream\n",
    "\n",
    "shopping_list.extend(['chocolate', 'cookies'])    # add two elements to the list (we will store them in the list)\n",
    "print(f'List without sour cream: {shopping_list}')   # print the list with chocolate and cookies\n",
    "\n",
    "print(f'Milk is found {shopping_list.count(\"milk\")} times in the list.')\n",
    "print(f'The index of the first occurrence for milk is {shopping_list.index(\"milk\")}.')\n",
    "print(f'The index of the first occurrence for yoghurt is {shopping_list.index(\"yoghurt\")}.')\n",
    "\n",
    "print()\n",
    "shopping_tuple = ('milk', 'bread', 'sour cream', 'milk', 'yoghurt')\n",
    "print(f'Milk is found {shopping_tuple.count(\"milk\")} times in the list.')\n",
    "print(f'The index of the first occurrence for milk is {shopping_tuple.index(\"milk\")}.')\n",
    "print(f'The index of the first occurrence for yoghurt is {shopping_tuple.index(\"yoghurt\")}.')"
   ]
  },
  {
   "cell_type": "markdown",
   "metadata": {
    "id": "JKmOLI-EjkC3"
   },
   "source": [
    "### String Methods\n",
    "\n",
    "* `.split()` splits a string after each whitespace (you can set up your own separator as argument)\n",
    "* `.join()` takes a list of strings to create a new string. The string to which this method was applied will become the separator between the elements."
   ]
  },
  {
   "cell_type": "code",
   "execution_count": null,
   "metadata": {
    "id": "l3rSwHHVjkC3",
    "outputId": "180f2f67-4414-46f0-8fed-8b8f13ffaa0c"
   },
   "outputs": [
    {
     "name": "stdout",
     "output_type": "stream",
     "text": [
      "['Olya', 'Anya', 'Petya']\n",
      "Olya;Anya;Petya\n"
     ]
    }
   ],
   "source": [
    "names = 'Olya, Anya, Petya'.split(', ') # split a string with names separated by ','\n",
    "print(names)\n",
    "print(';'.join(names)) # join a list of strings to create a new string separated by ';'"
   ]
  },
  {
   "cell_type": "markdown",
   "metadata": {
    "id": "-1pSjYhWjkC3"
   },
   "source": [
    "* `.isdigit()` checks if a string contains only digits\n",
    "* `.islower()` checks if a string contains only letters in lower case\n",
    "* `.isalpha()` checks if a string contains only letters\n",
    "* `.isalnum()` checks if a string contains only letters and digits\n",
    "* `.replace()` creates a new string by replacing elements in the original string\n",
    "* `.count()` checks how many times a given sequence of characters is found in a string"
   ]
  },
  {
   "cell_type": "code",
   "execution_count": null,
   "metadata": {
    "colab": {
     "base_uri": "https://localhost:8080/"
    },
    "id": "Xiq9rsVWjkC3",
    "outputId": "1a56f833-d7c9-4b33-ea2c-a6cddfcafc0f"
   },
   "outputs": [
    {
     "name": "stdout",
     "output_type": "stream",
     "text": [
      "We will use the \" 4242HelloHello42!   \"\" string to check how these methods work\n",
      "Does this string contain only digits? False\n",
      "Does this string contain only letters in lower case? False\n",
      "Does this string contain only letters? False\n",
      "Does this string contain only letters and digits? False\n",
      "Remove whitespaces on both sides of the string: \"4242HelloHello42!\"\n",
      "Replace the number 42 with the word \"Answer\": \" AnswerAnswerHelloHelloAnswer!   \"\n",
      "Find the first and last index for the number 42: 1, 15\n",
      "How many times is the number 42 found in the string? 3\n"
     ]
    }
   ],
   "source": [
    "s = ' 4242HelloHello42!   '\n",
    "print(f'We will use the \"{s}\"\" string to check how these methods work')\n",
    "print(f'Does this string contain only digits? {s.isdigit()}')\n",
    "print(f'Does this string contain only letters in lower case? {s.islower()}')\n",
    "print(f'Does this string contain only letters? {s.isalpha()}')\n",
    "print(f'Does this string contain only letters and digits? {s.isalnum()}')\n",
    "print(f'Remove whitespaces on both sides of the string: \"{s.strip()}\"')\n",
    "print(f'Replace the number 42 with the word \"Answer\": \"{s.replace(\"42\",\"Answer\")}\"')\n",
    "print(f'Find the first and last index for the number 42: {s.find(\"42\")}, {s.rfind(\"42\")}')\n",
    "print(f'How many times is the number 42 found in the string? {s.count(\"42\")}')"
   ]
  },
  {
   "cell_type": "markdown",
   "metadata": {
    "id": "i3m5zVoFjkC4"
   },
   "source": [
    "* `.find()` and `.rfind()` can be used to find the indices of the very first and last occurence of a given sequence of characters in a string \n",
    "* `.lower()` creates a new string with lowercase letters only\n",
    "* `.upper()` creates a new string with uppercase letters only\n",
    "* `.strip()` creates a new string where unwanted characters will be removed on both sides of the original string. The default argument is whitespace, but you can specify the string of characters that will be considered unwanted: `.strip('.')` will remove only periods\n",
    "* `.lstrip()` and `.rstrip()` work in the same way as `.strip()`but will remove characters to the left or to the right of the string"
   ]
  },
  {
   "cell_type": "code",
   "execution_count": null,
   "metadata": {
    "colab": {
     "base_uri": "https://localhost:8080/"
    },
    "id": "c9CLlAWNjkC4",
    "outputId": "c0d895af-6b4b-4136-dba8-257788e73edf"
   },
   "outputs": [
    {
     "name": "stdout",
     "output_type": "stream",
     "text": [
      "Original string: \" .Test. \"\n",
      "A string without whitespaces on both sides: \".Test.\"\n",
      "A string without whitespaces to the right: \" .Test.\"\n",
      "A string without whitespaces to the left: \".Test. \"\n",
      "A string without periods and whitespaces on both sides: \"Test\"\n",
      "A string that only contains uppercase letters: \" .TEST. \"\n",
      "A string that only contains lowercase letters: \" .test. \"\n",
      "A string that only contains lowercase letters and no unwanted whitespaces: \".test.\"\n",
      "The original string did not change: \" .Test. \"\n"
     ]
    }
   ],
   "source": [
    "s = ' .Test. '\n",
    "print(f'Original string: \"{s}\"')\n",
    "print(f'A string without whitespaces on both sides: \"{s.strip()}\"')\n",
    "print(f'A string without whitespaces to the right: \"{s.rstrip()}\"')\n",
    "print(f'A string without whitespaces to the left: \"{s.lstrip()}\"')\n",
    "print(f'A string without periods and whitespaces on both sides: \"{s.strip(\" .\")}\"')\n",
    "print(f'A string that only contains uppercase letters: \"{s.upper()}\"')\n",
    "print(f'A string that only contains lowercase letters: \"{s.lower()}\"')\n",
    "print(f'A string that only contains lowercase letters and no unwanted whitespaces: \"{s.lower().strip()}\"')\n",
    "print(f'The original string did not change: \"{s}\"')"
   ]
  },
  {
   "cell_type": "markdown",
   "metadata": {
    "id": "R19i0RccjkC5"
   },
   "source": [
    "* `.startswith()` can be used to check if a string begins with a specified sequence of characters (or one of the sequences we are looking for)\n",
    "* `.endswith()`in the same way, can be used to check if a string ends with a specified sequence of characters (or one of the sequences we are looking for)"
   ]
  },
  {
   "cell_type": "code",
   "execution_count": null,
   "metadata": {
    "id": "pnwOjJmBjkC5"
   },
   "outputs": [],
   "source": [
    "print(f'Does the \"hse.ru\" string end with \".ru\"? {\"hse.ru\".endswith(\"ru\")}')\n",
    "print(f'Does the \"hse.ru\" string end with \".ru\" or \".рф\"? {\"hse.ru\".endswith((\"ru\", \".рф\"))}')\n",
    "print(f'Does the \"https://cbr.ru\" string start with \"https\"? {\"https://cbr.ru\".startswith(\"https\")}')"
   ]
  },
  {
   "cell_type": "markdown",
   "metadata": {
    "id": "HUf0CPoHjkC5"
   },
   "source": [
    "### Sets"
   ]
  },
  {
   "cell_type": "code",
   "execution_count": null,
   "metadata": {
    "colab": {
     "base_uri": "https://localhost:8080/"
    },
    "id": "nATxZGQjjkC5",
    "outputId": "18d9b849-5da7-40b5-ac92-030e423f31e8"
   },
   "outputs": [
    {
     "name": "stdout",
     "output_type": "stream",
     "text": [
      "{'python', 'dog', 'grass snake'}\n"
     ]
    }
   ],
   "source": [
    "pets = {'cat', 'grass snake', 'python'}\n",
    "pets.add('dog') # add a new element to the set\n",
    "pets.remove('cat') # remove an element from the set\n",
    "print(pets)"
   ]
  },
  {
   "cell_type": "markdown",
   "metadata": {
    "id": "eaV-BuGQjkC6"
   },
   "source": [
    "### Set Operations"
   ]
  },
  {
   "cell_type": "code",
   "execution_count": null,
   "metadata": {
    "colab": {
     "base_uri": "https://localhost:8080/"
    },
    "id": "BHp9hYVRjkC6",
    "outputId": "93219eba-e43e-46b8-8b44-d4ebe43aef63"
   },
   "outputs": [
    {
     "name": "stdout",
     "output_type": "stream",
     "text": [
      "{'fish', 'python', 'chinchilla', 'dog', 'cat', 'chameleon', 'grass snake'}\n",
      "{'cat', 'grass snake'}\n",
      "{'fish', 'chinchilla'}\n",
      "{'python', 'chameleon', 'dog'}\n",
      "{'python', 'chinchilla', 'dog', 'fish', 'chameleon'}\n"
     ]
    }
   ],
   "source": [
    "my_pets_list = {'cat', 'fish', 'chinchilla', 'grass snake'}\n",
    "friend_pets_list = {'dog', 'python', 'grass snake', 'cat', 'chameleon'}\n",
    "\n",
    "# union: prints elements found in at least one set\n",
    "print(my_pets_list | friend_pets_list) \n",
    "\n",
    "# intersection: prints elements found in both sets\n",
    "print(my_pets_list & friend_pets_list) \n",
    "\n",
    "# difference: prints elements found in my_pets_list but not included in friend_pets_list\n",
    "print(my_pets_list - friend_pets_list) \n",
    "\n",
    "# difference: prints elements found in friend_pets_list but not included in my_pets_list\n",
    "print(friend_pets_list - my_pets_list) \n",
    "\n",
    "# symmetric difference: prints elements found in either set but not both\n",
    "print(my_pets_list ^ friend_pets_list) "
   ]
  },
  {
   "cell_type": "markdown",
   "metadata": {
    "id": "03R1JJBIjkC6"
   },
   "source": [
    "### Dictionaries"
   ]
  },
  {
   "cell_type": "code",
   "execution_count": null,
   "metadata": {
    "colab": {
     "base_uri": "https://localhost:8080/"
    },
    "id": "q0qSP4WojkC6",
    "outputId": "3d34a9ea-e4bc-4bd4-ba21-4721da98fb53"
   },
   "outputs": [
    {
     "name": "stdout",
     "output_type": "stream",
     "text": [
      "яблоко\n",
      "{'apple': 'яблоко', 'hello': 'здравствуйте', 'world': 'мир'}\n",
      "{'apple': 'яблоко', 'hello': 'здравствуйте'}\n",
      "{'apple': 'яблоко', 'hello': 'здравствуйте', 'python': 'питон'}\n"
     ]
    }
   ],
   "source": [
    "eng_rus = {'apple': 'яблоко', 'hello': 'привет', 'world': 'мир'}\n",
    "\n",
    "print(eng_rus['apple']) # access the \"яблоко\" value by its key - \"apple\"\n",
    "eng_rus['hello'] = 'здравствуйте' # replace a key value\n",
    "print(eng_rus) # print the revised dictionary\n",
    "del eng_rus['world'] # remove a key:value pair\n",
    "print(eng_rus) # print the revised dictionary\n",
    "eng_rus['python'] = 'питон' # create a new key:value pair\n",
    "print(eng_rus) # print the revised dictionary"
   ]
  },
  {
   "cell_type": "code",
   "execution_count": null,
   "metadata": {
    "id": "rbudz89fjkC7",
    "outputId": "42391958-6584-462d-8dd3-2d54ed7cdbd1"
   },
   "outputs": [
    {
     "name": "stdout",
     "output_type": "stream",
     "text": [
      "True\n",
      "False\n",
      "dict_values(['яблоко', 'привет', 'мир'])\n",
      "dict_keys(['apple', 'hello', 'world'])\n",
      "dict_items([('apple', 'яблоко'), ('hello', 'привет'), ('world', 'мир')])\n"
     ]
    }
   ],
   "source": [
    "eng_rus = {'apple': 'яблоко', 'hello': 'привет', 'world': 'мир'}\n",
    "\n",
    "print('apple' in eng_rus) # check if a given key is found in the dictionary\n",
    "print('apple' not in eng_rus) # check if a given key is not found in the dictionary\n",
    "print(eng_rus.values()) # print all values in the dictionary\n",
    "print(eng_rus.keys()) # print all keys in the dictionary\n",
    "print(eng_rus.items()) # print all key:value pairs as a tuples list"
   ]
  },
  {
   "cell_type": "code",
   "execution_count": null,
   "metadata": {
    "id": "1en_hVeTjkC7",
    "outputId": "6ecac656-90e9-491d-83bd-3a6e52d963c6"
   },
   "outputs": [
    {
     "name": "stdout",
     "output_type": "stream",
     "text": [
      "apple\n",
      "hello\n",
      "world\n"
     ]
    }
   ],
   "source": [
    "# iterate over all keys in the dictionary\n",
    "eng_rus = {'apple': 'яблоко', 'hello': 'привет', 'world': 'мир'}\n",
    "\n",
    "for key in eng_rus:\n",
    "    print(key)"
   ]
  },
  {
   "cell_type": "code",
   "execution_count": null,
   "metadata": {
    "id": "xMMyZxEVjkC7",
    "outputId": "7f1a9e96-92bc-4bd9-a961-12a65e859271"
   },
   "outputs": [
    {
     "name": "stdout",
     "output_type": "stream",
     "text": [
      "яблоко\n",
      "привет\n",
      "мир\n"
     ]
    }
   ],
   "source": [
    "# iterate over all values in the dictionary\n",
    "eng_rus = {'apple': 'яблоко', 'hello': 'привет', 'world': 'мир'}\n",
    "\n",
    "# iterate over all values in the dictionary: method 1\n",
    "for key in eng_rus:\n",
    "    print(eng_rus[key])\n"
   ]
  },
  {
   "cell_type": "code",
   "execution_count": null,
   "metadata": {
    "id": "kMCoxD24jkC8",
    "outputId": "e6b8a591-9621-4941-d740-735ffa7be391"
   },
   "outputs": [
    {
     "name": "stdout",
     "output_type": "stream",
     "text": [
      "яблоко\n",
      "привет\n",
      "мир\n"
     ]
    }
   ],
   "source": [
    "# iterate over all values in the dictionary\n",
    "eng_rus = {'apple': 'яблоко', 'hello': 'привет', 'world': 'мир'}\n",
    "\n",
    "# iterate over all values in the dictionary: method 2\n",
    "for value in eng_rus.values():\n",
    "    print(value)"
   ]
  },
  {
   "cell_type": "code",
   "execution_count": null,
   "metadata": {
    "id": "0t3DCymIjkC8",
    "outputId": "fd1794e2-eb8c-4743-b87a-cf36a4e84dc9"
   },
   "outputs": [
    {
     "name": "stdout",
     "output_type": "stream",
     "text": [
      "apple яблоко\n",
      "hello привет\n",
      "world мир\n"
     ]
    }
   ],
   "source": [
    "# print the key and the corresponding value\n",
    "eng_rus = {'apple': 'яблоко', 'hello': 'привет', 'world': 'мир'}\n",
    "\n",
    "for key in eng_rus:\n",
    "    print(key, eng_rus[key])"
   ]
  },
  {
   "cell_type": "code",
   "execution_count": 2,
   "metadata": {
    "id": "tZUgUUDVjkC9",
    "outputId": "4d7f951d-eab8-40ad-c791-a7229f2b6952"
   },
   "outputs": [
    {
     "name": "stdout",
     "output_type": "stream",
     "text": [
      "dict_items([('apple', 'яблоко'), ('hello', 'привет'), ('world', 'мир')])\n",
      "apple яблоко\n",
      "hello привет\n",
      "world мир\n"
     ]
    }
   ],
   "source": [
    "# access dict_items where the key:value pairs are stored\n",
    "eng_rus = {'apple': 'яблоко', 'hello': 'привет', 'world': 'мир'}\n",
    "\n",
    "print(eng_rus.items())\n",
    "\n",
    "for key,value in eng_rus.items():\n",
    "    print(key, value)"
   ]
  },
  {
   "cell_type": "markdown",
   "metadata": {
    "id": "K8aiSF0-jkC9"
   },
   "source": [
    "#### Dictionary of Lists"
   ]
  },
  {
   "cell_type": "code",
   "execution_count": null,
   "metadata": {
    "colab": {
     "base_uri": "https://localhost:8080/"
    },
    "id": "RFANvK3IjkC9",
    "outputId": "8d171b96-9841-417d-c316-44dbdb37cc42"
   },
   "outputs": [
    {
     "name": "stdout",
     "output_type": "stream",
     "text": [
      "Daily temperature (daytime, nighttime): {'January 1': [-5, -12], 'January 2': [-4, -8]}\n",
      "Temperature on January 1 (daytime, nighttime): [-5, -12]\n",
      "Temperature on January 1 (daytime): -5\n",
      "Temperature on January 1 (average): -8.5\n"
     ]
    }
   ],
   "source": [
    "temperature = {\n",
    "    'January 1': [-5, -12],\n",
    "    'January 2': [-4, -8]\n",
    "}\n",
    "# print the entrire dictionary for temperatures over 2 days:\n",
    "print(f'Daily temperature (daytime, nighttime): {temperature}')\n",
    "\n",
    "# print the temperature list for January 1:\n",
    "print(f'Temperature on January 1 (daytime, nighttime): {temperature[\"January 1\"]}')\n",
    "\n",
    "# print the daytime temperature for January 1:\n",
    "print(f'Temperature on January 1 (daytime): {temperature[\"January 1\"][0]}')\n",
    "\n",
    "# print the average temperature for January 1:\n",
    "print(f'Temperature on January 1 (average): {sum(temperature[\"January 1\"]) / len(temperature[\"January 1\"])}')"
   ]
  },
  {
   "cell_type": "markdown",
   "metadata": {
    "id": "JPQj0oDDjkC-"
   },
   "source": [
    "### Statistics with Dictionaries"
   ]
  },
  {
   "cell_type": "code",
   "execution_count": null,
   "metadata": {
    "id": "-2Cd3-_CjkC-",
    "outputId": "e8f059b0-eb8d-4b38-eba9-754daebfa0c0"
   },
   "outputs": [
    {
     "name": "stdout",
     "output_type": "stream",
     "text": [
      "{'t': 13, 'w': 2, 'o': 10, 'a': 6, 'd': 7, 's': 2, 'e': 8, 'r': 7, 'i': 3, 'b': 3, 'l': 2, 'y': 1, 'n': 4, 'g': 1, 'h': 2, 'u': 2, 'm': 2}\n"
     ]
    }
   ],
   "source": [
    "# count how many times each letter is found in a text\n",
    "twister = 'two toads terribly tired trotted along the road said toad number one to the toad number two'\n",
    "\n",
    "letters = twister.replace(' ', '') # remove whitespaces\n",
    "\n",
    "stats = {} # create an empty dictionary to calculate the statistics\n",
    "for l in letters:\n",
    "    if l not in stats:\n",
    "        stats[l] = 1\n",
    "    else:\n",
    "        stats[l] += 1\n",
    "        \n",
    "print(stats) "
   ]
  },
  {
   "cell_type": "markdown",
   "metadata": {
    "id": "mMy17YP-jkC-"
   },
   "source": [
    "## Sum, min, max, sort\n",
    "\n",
    "`sum()`  \n",
    "sumps up all elements in a list\n",
    "\n",
    "`max()`  \n",
    "returns the largest element in a list, tuple, or set\n",
    "\n",
    "`min()`  \n",
    "returns the smallest element in a list, tuple, or set"
   ]
  },
  {
   "cell_type": "code",
   "execution_count": null,
   "metadata": {
    "colab": {
     "base_uri": "https://localhost:8080/"
    },
    "id": "ztDOz9HljkC-",
    "outputId": "080cda9a-2091-42f4-bd26-e7feac96c994"
   },
   "outputs": [
    {
     "name": "stdout",
     "output_type": "stream",
     "text": [
      "The minimum number in the [5, 7, 30] list: 5\n",
      "The maximum number in the [5, 7, 30] list: 30\n",
      "The sum of all numbers in the [5, 7, 30] list: 42\n",
      "The minimum number in the (5, 7, 30) tuple: 5\n",
      "The maximum number in the (5, 7, 30) tuple: 30\n",
      "The sum of all numbers in the (5, 7, 30) tuple: 42\n",
      "The minimum number in the 112358 string: 1, the maximum number: 8\n"
     ]
    }
   ],
   "source": [
    "numbers = [5,7,30]\n",
    "print(f'The minimum number in the {numbers} list: {min(numbers)}')\n",
    "print(f'The maximum number in the {numbers} list: {max(numbers)}')\n",
    "print(f'The sum of all numbers in the {numbers} list: {sum(numbers)}')\n",
    "\n",
    "numbers = (5,7,30)\n",
    "print(f'The minimum number in the {numbers} tuple: {min(numbers)}')\n",
    "print(f'The maximum number in the {numbers} tuple: {max(numbers)}')\n",
    "print(f'The sum of all numbers in the {numbers} tuple: {sum(numbers)}')\n",
    "\n",
    "s = '112358'\n",
    "print(f'The minimum number in the {s} string: {min(s)}, the maximum number: {max(s)}')"
   ]
  },
  {
   "cell_type": "code",
   "execution_count": null,
   "metadata": {
    "id": "g7lWptFGjkC_",
    "outputId": "fea649c8-e8b7-46fe-a3a1-be2b3c9a6082"
   },
   "outputs": [
    {
     "name": "stdout",
     "output_type": "stream",
     "text": [
      "[4, 8, 8.4, 9.4]\n",
      "[9.4, 8.4, 8, 4]\n"
     ]
    }
   ],
   "source": [
    "marks = [8.4, 4, 8, 9.4]\n",
    "print(sorted(marks))  # sort the marks list in an ascending order\n",
    "print(sorted(marks, reverse=True))  # and in a descending order"
   ]
  },
  {
   "cell_type": "code",
   "execution_count": null,
   "metadata": {
    "id": "NAJLeeUnjkC_",
    "outputId": "ed5b716f-3120-4317-dade-50f623bf5993"
   },
   "outputs": [
    {
     "name": "stdout",
     "output_type": "stream",
     "text": [
      "['Orange', 'apple', 'Апельсин', 'Яблоко', 'манго']\n",
      "['apple', 'Orange', 'Апельсин', 'манго', 'Яблоко']\n"
     ]
    }
   ],
   "source": [
    "fruits = ['apple', 'Яблоко', 'Апельсин', 'Orange', 'манго']\n",
    "print(sorted(fruits)) # sort the strings without keys (do not ignore case)\n",
    "print(sorted(fruits, key=str.lower)) # sort the strings by keys (ignore case)"
   ]
  },
  {
   "cell_type": "code",
   "execution_count": null,
   "metadata": {
    "colab": {
     "base_uri": "https://localhost:8080/"
    },
    "id": "wj9KNh9tjkC_",
    "outputId": "849d07c1-7666-42d1-fc04-5ba37616345a"
   },
   "outputs": [
    {
     "name": "stdout",
     "output_type": "stream",
     "text": [
      "Student Antonova Anna was assigned 10 points\n",
      "Student Bobylev Sergey was assigned 5 points\n",
      "Student Ivanov Alexey was assigned 8 points\n",
      "Student Yanova Lena was assigned 5 points\n"
     ]
    }
   ],
   "source": [
    "# print the dictionary sorted by keys\n",
    "marks_students = {'Antonova Anna':10, 'Ivanov Alexey':8, 'Bobylev Sergey':5, 'Yanova Lena':5}\n",
    "\n",
    "for key in sorted(marks_students):\n",
    "  print(f'Student {key} was assigned {marks_students[key]} points')"
   ]
  },
  {
   "cell_type": "code",
   "execution_count": null,
   "metadata": {
    "colab": {
     "base_uri": "https://localhost:8080/"
    },
    "id": "cupgFOLHjkC_",
    "outputId": "c02b3e8f-35b4-48ec-c9d6-691fab2d24eb"
   },
   "outputs": [
    {
     "name": "stdout",
     "output_type": "stream",
     "text": [
      "5 points will be assigned to student Bobylev Sergey\n",
      "5 points will be assigned to student Yanova Lena\n",
      "8 points will be assigned to student Ivanov Alexey\n",
      "10 points will be assigned to student Antonova Anna\n"
     ]
    }
   ],
   "source": [
    "# print the dictionary sorted by values\n",
    "marks_students = {'Antonova Anna':10, 'Ivanov Alexey':8, 'Bobylev Sergey':5, 'Yanova Lena':5}\n",
    "\n",
    "for value in sorted(set(marks_students.values())):\n",
    "    for key in marks_students:\n",
    "        if marks_students[key] == value:\n",
    "            print(f'{value} points will be assigned to student {key}')"
   ]
  },
  {
   "cell_type": "code",
   "execution_count": null,
   "metadata": {
    "colab": {
     "base_uri": "https://localhost:8080/"
    },
    "id": "2E7wD5dUjkDA",
    "outputId": "7ac5e8ab-601c-488c-fdcf-0bd1c4755cbf"
   },
   "outputs": [
    {
     "name": "stdout",
     "output_type": "stream",
     "text": [
      "The surname of a student placed last in the dictionary: Yanova Lena\n"
     ]
    }
   ],
   "source": [
    "# find the minimum/maximum items in the dictionary keys\n",
    "marks_students = {'Antonova Anna':10, 'Ivanov Alexey':8, 'Bobylev Sergey':5, 'Yanova Lena':5}\n",
    "\n",
    "max_key = max(marks_students)\n",
    "print(f'The surname of a student placed last in the dictionary: {max_key}')"
   ]
  },
  {
   "cell_type": "code",
   "execution_count": null,
   "metadata": {
    "colab": {
     "base_uri": "https://localhost:8080/"
    },
    "id": "rdIfdFtejkDB",
    "outputId": "cc388921-dcc2-4746-b285-8106f9ecd946"
   },
   "outputs": [
    {
     "name": "stdout",
     "output_type": "stream",
     "text": [
      "The minimum mark 5 will be assigned to student Bobylev Sergey\n",
      "The minimum mark 5 will be assigned to student Yanova Lena\n"
     ]
    }
   ],
   "source": [
    "# find the minimum/maximum elements in the dictionary values\n",
    "\n",
    "min_value = min(marks_students.values())\n",
    "\n",
    "for key in marks_students:\n",
    "    if marks_students[key] == min_value:\n",
    "        print(f'The minimum mark {min_value} will be assigned to student {key}')"
   ]
  },
  {
   "cell_type": "markdown",
   "metadata": {
    "id": "pD2Yo9eEjkDD"
   },
   "source": [
    "### Functions"
   ]
  },
  {
   "cell_type": "code",
   "execution_count": null,
   "metadata": {
    "id": "YpdVOWdOjkDD",
    "outputId": "fa330637-badd-419e-d5ff-d6d99a7a1b78"
   },
   "outputs": [
    {
     "name": "stdout",
     "output_type": "stream",
     "text": [
      "15\n"
     ]
    }
   ],
   "source": [
    "# define a function that will count one's age based on their year of birth\n",
    "def get_age(year):\n",
    "    print(2020 - year)\n",
    "\n",
    "birth_year = 2005\n",
    "get_age(birth_year)"
   ]
  },
  {
   "cell_type": "code",
   "execution_count": null,
   "metadata": {
    "id": "l_pMLUcLjkDE",
    "outputId": "d95236be-0a43-4454-ed7e-11ad508c2819"
   },
   "outputs": [
    {
     "name": "stdout",
     "output_type": "stream",
     "text": [
      "24\n"
     ]
    }
   ],
   "source": [
    "# define a function that will count \n",
    "# one's age in a given year\n",
    "def check_age(birth_year, year):\n",
    "    print(year - birth_year)\n",
    "    \n",
    "check_age(1996, 2020)"
   ]
  },
  {
   "cell_type": "code",
   "execution_count": null,
   "metadata": {
    "colab": {
     "base_uri": "https://localhost:8080/"
    },
    "id": "SAKgcRfQjkDE",
    "outputId": "4750cff8-2fe3-420b-aeff-c21d234c0cde"
   },
   "outputs": [
    {
     "name": "stdout",
     "output_type": "stream",
     "text": [
      "Error\n",
      "4\n"
     ]
    }
   ],
   "source": [
    "# define a conditional function that returns 2 values\n",
    "# The function checks if a person was born in the same year for which we want to check their age\n",
    "def check_age(birth_year, year):\n",
    "    if year < birth_year:\n",
    "        return 'Error'\n",
    "    else:\n",
    "        return year - birth_year\n",
    "\n",
    "print(check_age(1996, 1980))\n",
    "print(check_age(1996, 2000))"
   ]
  },
  {
   "cell_type": "code",
   "execution_count": null,
   "metadata": {
    "id": "vyrxwGwpjkDE",
    "outputId": "8a31f55b-91f6-406f-c1f9-dabd71b9b3a5"
   },
   "outputs": [
    {
     "data": {
      "text/plain": [
       "(33, 16)"
      ]
     },
     "execution_count": 62,
     "metadata": {},
     "output_type": "execute_result"
    }
   ],
   "source": [
    "# call a function inside another function\n",
    "\n",
    "# convert year of birth into age\n",
    "def get_age(age):\n",
    "    return 2020 - age\n",
    "\n",
    "# find the minimum and maximum age in a list\n",
    "def get_min_max_age(list_of_ages):\n",
    "    return get_age(min(list_of_ages)), get_age(max(list_of_ages))\n",
    "\n",
    "get_min_max_age([1987, 1990, 2000, 2004, 1999])"
   ]
  },
  {
   "cell_type": "code",
   "execution_count": null,
   "metadata": {
    "colab": {
     "base_uri": "https://localhost:8080/"
    },
    "id": "kOQU295yjkDE",
    "outputId": "59b9d4d4-76ae-48b8-ae69-51bb7c6c98ce"
   },
   "outputs": [
    {
     "name": "stdout",
     "output_type": "stream",
     "text": [
      "6\n",
      "w\n"
     ]
    }
   ],
   "source": [
    "# return several values\n",
    "\n",
    "# return the word length and last letter for the last-letter game\n",
    "def check_name(word):\n",
    "    return len(word), word[-1]\n",
    "\n",
    "petya_score, last_letter = check_name('Moscow')\n",
    "print(petya_score)\n",
    "print(last_letter)"
   ]
  },
  {
   "cell_type": "markdown",
   "metadata": {
    "id": "Ubf_NELZjkDF"
   },
   "source": [
    "### Anonymous Functions"
   ]
  },
  {
   "cell_type": "code",
   "execution_count": null,
   "metadata": {
    "id": "v36sqxYijkDF",
    "outputId": "c496ff2d-b114-4594-f377-93e39d3be37d"
   },
   "outputs": [
    {
     "name": "stdout",
     "output_type": "stream",
     "text": [
      "[4, 9, 16]\n",
      "[4, 9, 16]\n"
     ]
    }
   ],
   "source": [
    "def squared(a):\n",
    "    return a ** 2\n",
    "\n",
    "print(list(map(squared, [2, 3, 4])))\n",
    "# anonymous function is similar to squared\n",
    "print(list(map(lambda a: a ** 2, [2, 3, 4]))) "
   ]
  },
  {
   "cell_type": "markdown",
   "metadata": {
    "id": "QqOmuQE8jkDF"
   },
   "source": [
    "Sort a dictionary by value using anonymous function"
   ]
  },
  {
   "cell_type": "code",
   "execution_count": null,
   "metadata": {
    "id": "XOQ2ckQQjkDF",
    "outputId": "774ffebb-b231-44ea-c046-29c1563c5991"
   },
   "outputs": [
    {
     "name": "stdout",
     "output_type": "stream",
     "text": [
      "[('barsik', 76), ('cat', 124), ('meow', 50)]\n",
      "[('meow', 50), ('barsik', 76), ('cat', 124)]\n"
     ]
    }
   ],
   "source": [
    "d = {'cat':124, 'barsik':76, 'meow':50}\n",
    "\n",
    "# sort a dictionary by key (the first element in a tuple)\n",
    "print(sorted(d.items())) \n",
    "\n",
    "# sort a dictionary by value (the second element in a tuple of d.items())\n",
    "print(sorted(d.items(), key=lambda x:x[1]))"
   ]
  },
  {
   "cell_type": "markdown",
   "metadata": {
    "id": "XiPmcqr3MVYx"
   },
   "source": [
    "### Passing Strings, Tuples, Numbers \n",
    "Let's consider how strings, tuples, integers, and floating-point numbers are passed to functions."
   ]
  },
  {
   "cell_type": "code",
   "execution_count": null,
   "metadata": {
    "id": "sHvOAkCzMplI"
   },
   "outputs": [],
   "source": [
    "# define the function that will update a string \n",
    "# Input parameters: a string\n",
    "# Returned values: a string with ' + addition' \n",
    "def update_string(s):\n",
    "    s += ' + addition'\n",
    "    return s"
   ]
  },
  {
   "cell_type": "code",
   "execution_count": null,
   "metadata": {
    "colab": {
     "base_uri": "https://localhost:8080/"
    },
    "id": "hd2333-ANCaL",
    "outputId": "a0c648b7-663c-41c9-9390-49cb42a46893"
   },
   "outputs": [
    {
     "name": "stdout",
     "output_type": "stream",
     "text": [
      "str2: original text + addition\n",
      "str1: original text\n"
     ]
    }
   ],
   "source": [
    "str1 = 'original text'      \n",
    "str2 = update_string(str1) \n",
    "print('str2:', str2)       \n",
    "print('str1:', str1) # The original string did not change"
   ]
  },
  {
   "cell_type": "code",
   "execution_count": null,
   "metadata": {
    "id": "oBLQR-FiNSOc"
   },
   "outputs": [],
   "source": [
    "# define the function that will update a tuple \n",
    "# Input parameters: a tuple\n",
    "# Returned values: another tuple\n",
    "def update_tuple(t):\n",
    "    t = ('another', 'tuple')\n",
    "    return t"
   ]
  },
  {
   "cell_type": "code",
   "execution_count": null,
   "metadata": {
    "colab": {
     "base_uri": "https://localhost:8080/"
    },
    "id": "-NiL6sYdNk_b",
    "outputId": "62ae151d-8132-466d-e7dc-04d8064a0afb"
   },
   "outputs": [
    {
     "name": "stdout",
     "output_type": "stream",
     "text": [
      "t2: ('another', 'tuple')\n",
      "t1: ('original', 'tuple')\n"
     ]
    }
   ],
   "source": [
    "t1 = ('original', 'tuple')      \n",
    "t2 = update_tuple(t1) \n",
    "print('t2:', t2)    \n",
    "print('t1:', t1) # The original tuple did not change"
   ]
  },
  {
   "cell_type": "code",
   "execution_count": null,
   "metadata": {
    "id": "0sOSqFf8N8Ok"
   },
   "outputs": [],
   "source": [
    "# define the function that will update a number \n",
    "# Input parameters: a number (integer or floating-point number)\n",
    "# Returned values: the same number multiplied by 2\n",
    "def update_number(n):\n",
    "    n *= 2 # another way to write it: n = n * 2\n",
    "    return n"
   ]
  },
  {
   "cell_type": "code",
   "execution_count": null,
   "metadata": {
    "colab": {
     "base_uri": "https://localhost:8080/",
     "height": 50
    },
    "id": "VYLFwZdYOi6l",
    "outputId": "35cf5bd5-4de8-471a-da5c-e37be2f99255"
   },
   "outputs": [
    {
     "name": "stdout",
     "output_type": "stream",
     "text": [
      "n2: 10\n",
      "n1: 5\n"
     ]
    }
   ],
   "source": [
    "n1 = 5      \n",
    "n2 = update_number(n1) # call the function for an integer\n",
    "print('n2:', n2)      \n",
    "print('n1:', n1)       "
   ]
  },
  {
   "cell_type": "code",
   "execution_count": null,
   "metadata": {
    "colab": {
     "base_uri": "https://localhost:8080/",
     "height": 50
    },
    "id": "tbuZafpJOupM",
    "outputId": "0e4efea4-cc7a-4079-efe4-b7e02a3b1ec0"
   },
   "outputs": [
    {
     "name": "stdout",
     "output_type": "stream",
     "text": [
      "n4: 14.4\n",
      "n3: 7.2\n"
     ]
    }
   ],
   "source": [
    "n3 = 7.2      \n",
    "n4 = update_number(n3) # call the function for a floating-point number\n",
    "print('n4:', n4)      \n",
    "print('n3:', n3)       "
   ]
  },
  {
   "cell_type": "markdown",
   "metadata": {
    "id": "jZMOpxu3PCi-"
   },
   "source": [
    "### Passing lists, dictionaries, and sets\n",
    "Let's consider how lists, dictionaries, and sets can be passed to functions."
   ]
  },
  {
   "cell_type": "code",
   "execution_count": null,
   "metadata": {
    "id": "ejKitKFdPNsu"
   },
   "outputs": [],
   "source": [
    "# define the function that will update a list  \n",
    "# Input parameters: a list\n",
    "# Returned values: a list with '+ addition' \n",
    "def update_list(L):\n",
    "    L.append('+ addition')\n",
    "    return L"
   ]
  },
  {
   "cell_type": "code",
   "execution_count": null,
   "metadata": {
    "colab": {
     "base_uri": "https://localhost:8080/"
    },
    "id": "34i88Vf9PXOP",
    "outputId": "eac2970e-d4e9-42d4-d24e-d6d1a848dbc9"
   },
   "outputs": [
    {
     "name": "stdout",
     "output_type": "stream",
     "text": [
      "list2: ['original', 'list', '+ addition']\n",
      "list1: ['original', 'list', '+ addition']\n"
     ]
    }
   ],
   "source": [
    "list1 = ['original', 'list']       \n",
    "list2 = update_list(list1)          \n",
    "print('list2:', list2)             \n",
    "print('list1:', list1) # The original list was changed         "
   ]
  },
  {
   "cell_type": "code",
   "execution_count": null,
   "metadata": {
    "id": "t99hpTKuPbvB"
   },
   "outputs": [],
   "source": [
    "# define the function that will update a set  \n",
    "# Input parameters: a set\n",
    "# returned values: a set with '+ addition' \n",
    "def update_set(s):\n",
    "    s.add('+ addition')\n",
    "    return s"
   ]
  },
  {
   "cell_type": "code",
   "execution_count": null,
   "metadata": {
    "colab": {
     "base_uri": "https://localhost:8080/"
    },
    "id": "uXY7X0kHQAne",
    "outputId": "f9373e61-4619-4eee-c737-016e053122e9"
   },
   "outputs": [
    {
     "name": "stdout",
     "output_type": "stream",
     "text": [
      "s2: {'+ addition', 'set', 'original'}\n",
      "s1: {'+ addition', 'set', 'original'}\n"
     ]
    }
   ],
   "source": [
    "s1 = {'original', 'set'}\n",
    "s2 = update_set(s1)          \n",
    "print('s2:', s2)             \n",
    "print('s1:', s1) # The original set was changed                "
   ]
  },
  {
   "cell_type": "code",
   "execution_count": null,
   "metadata": {
    "id": "lIi-RLHoQMo8"
   },
   "outputs": [],
   "source": [
    "# define the function that will update a dictionary   \n",
    "# Input parameters: a dictionary\n",
    "# Returned values: a dictionary with an additional key and additional value\n",
    "def update_dict(d):\n",
    "    d['add.key'] = 'add.value'\n",
    "    return d"
   ]
  },
  {
   "cell_type": "code",
   "execution_count": null,
   "metadata": {
    "colab": {
     "base_uri": "https://localhost:8080/"
    },
    "id": "VRAYgGSPQiDp",
    "outputId": "5ae974b0-f98c-47d9-a772-f84602d31343"
   },
   "outputs": [
    {
     "name": "stdout",
     "output_type": "stream",
     "text": [
      "d2: {'key 1': 'value 1', 'key 2': 'value 2', 'add.key': 'add.value'}\n",
      "d1: {'key 1': 'value 1', 'key 2': 'value 2', 'add.key': 'add.value'}\n"
     ]
    }
   ],
   "source": [
    "d1 = {'key 1': 'value 1', 'key 2': 'value 2' }\n",
    "d2 = update_dict(d1)          \n",
    "print('d2:', d2)             \n",
    "print('d1:', d1) # The original dictionary was changed          "
   ]
  },
  {
   "cell_type": "markdown",
   "metadata": {
    "id": "a6SZLwaHjkDK"
   },
   "source": [
    "### Modules"
   ]
  },
  {
   "cell_type": "code",
   "execution_count": null,
   "metadata": {
    "id": "9zXozagAjkDK",
    "outputId": "0e7b813a-5f4c-4cc8-fba0-f6a6b3bd0d19"
   },
   "outputs": [
    {
     "name": "stdout",
     "output_type": "stream",
     "text": [
      "5.0\n"
     ]
    }
   ],
   "source": [
    "import math # imports the math module featuring additional mathematical functions \n",
    "print(math.sqrt(25)) # calls function from the module"
   ]
  },
  {
   "cell_type": "code",
   "execution_count": null,
   "metadata": {
    "id": "xV9v4ritjkDL",
    "outputId": "91689d59-f260-4977-e30d-d0a9e7dcfaf7"
   },
   "outputs": [
    {
     "name": "stdout",
     "output_type": "stream",
     "text": [
      "0123456789\n",
      "!\"#$%&'()*+,-./:;<=>?@[\\]^_`{|}~\n"
     ]
    }
   ],
   "source": [
    "import string # the string module contains multiple variables with character subsets\n",
    "print(string.digits) # all digits\n",
    "print(string.punctuation) # all punctuation marks"
   ]
  },
  {
   "cell_type": "markdown",
   "metadata": {
    "id": "62eHYqX0jkDL"
   },
   "source": [
    "### Handling Files"
   ]
  },
  {
   "cell_type": "markdown",
   "metadata": {
    "id": "Zg7IoRmajkDL"
   },
   "source": [
    "To have a file open without indicating the full path (by filename only), make sure to save it in the same folder as the file containing Python code. If you want to read a file on the online.hse.ru / et.hse.ru platform, you only need to state a filename without its full path (see examples).\n",
    "\n",
    "Also, don't forget to set up `encoding='UTF-8'`to avoid any issues with Cyrillics.\n",
    "\n",
    "Please make sure to use `with open() as`statement to open a file; the same statement will close the file afterwards.\n",
    "\n",
    "We will open files in three modes:\n",
    "1. `mode='r'` — **read**. If a file cannot be found, the system will show an error. This is the default mode.\n",
    "1. `mode='w'` — **write**. If a file cannot be found, a new one will be created. If a file exists, data will be overwritten.\n",
    "1. `mode='a'` — **append**. If a file cannot be found, a new one will be created. If a file exists, new data will be appended after existing data."
   ]
  },
  {
   "cell_type": "code",
   "execution_count": null,
   "metadata": {
    "id": "y9rm5J2pjkDL",
    "outputId": "13f754a6-c7d9-409c-e1ab-05a4fc68e841"
   },
   "outputs": [
    {
     "name": "stdout",
     "output_type": "stream",
     "text": [
      "Привет! Это первая строка в файле.\n",
      "А это вторая строка.\n",
      "\n",
      "Третья строка была пустой, а это уже четвертая строка.\n",
      "\n"
     ]
    }
   ],
   "source": [
    "# read text from a file to a string, method 1\n",
    "\n",
    "text = ''                # create an empty string where the text from the file will be stored\n",
    "with open('text_file.txt', encoding='UTF-8') as infile:\n",
    "    for line in infile:  # save each line from infile to the line variable one by one\n",
    "        text += line     # add a new line to the text variable\n",
    "\n",
    "print(text) "
   ]
  },
  {
   "cell_type": "code",
   "execution_count": null,
   "metadata": {
    "id": "kQMh6l2vjkDM",
    "outputId": "fb219264-1903-43ff-bd5d-79d1d200d85f"
   },
   "outputs": [
    {
     "name": "stdout",
     "output_type": "stream",
     "text": [
      "Привет! Это первая строка в файле.\n",
      "А это вторая строка.\n",
      "\n",
      "Третья строка была пустой, а это уже четвертая строка.\n",
      "\n"
     ]
    }
   ],
   "source": [
    "# read text from a file to a string, method 2\n",
    "\n",
    "with open('text_file.txt', encoding='UTF-8') as infile:\n",
    "    text = infile.read()\n",
    "\n",
    "print(text)"
   ]
  },
  {
   "cell_type": "code",
   "execution_count": null,
   "metadata": {
    "id": "XlOHXdlejkDM",
    "outputId": "b25f8d6c-b4ec-46dc-86d6-f0107ef65e66"
   },
   "outputs": [
    {
     "name": "stdout",
     "output_type": "stream",
     "text": [
      "['Привет! Это первая строка в файле.', 'А это вторая строка.', '', 'Третья строка была пустой, а это уже четвертая строка.']\n"
     ]
    }
   ],
   "source": [
    "# read lines from a file to a list, method 1\n",
    "\n",
    "lines = [] # create an empty list\n",
    "with open('text_file.txt', encoding='UTF-8') as infile:\n",
    "    for line in infile: # iterate over the file line by line\n",
    "        lines.append(line.strip()) # add a line + remove new line character\n",
    "print(lines)"
   ]
  },
  {
   "cell_type": "code",
   "execution_count": null,
   "metadata": {
    "id": "Uds6cNZNjkDN",
    "outputId": "5ea82a81-f5e3-4a92-8633-65e24beed751"
   },
   "outputs": [
    {
     "name": "stdout",
     "output_type": "stream",
     "text": [
      "['Привет! Это первая строка в файле.\\n', 'А это вторая строка.\\n', '\\n', 'Третья строка была пустой, а это уже четвертая строка.\\n']\n"
     ]
    }
   ],
   "source": [
    "# read lines from a file to a list, method 2\n",
    "\n",
    "lines = [] # create an empty list\n",
    "with open('text_file.txt', encoding='UTF-8') as infile:\n",
    "    lines = infile.readlines()\n",
    "\n",
    "# Please note that new line characters are still there, \n",
    "# and you will need to remove them later if this matters for your task    \n",
    "print(lines) "
   ]
  },
  {
   "cell_type": "code",
   "execution_count": null,
   "metadata": {
    "id": "LVa5mu33jkDN",
    "outputId": "e5eb5720-57d1-4be5-bfd0-0d6b4ebf131d"
   },
   "outputs": [
    {
     "name": "stdout",
     "output_type": "stream",
     "text": [
      "[['Фамилия', 'Имя', 'Отчество', 'год рождения'], ['Иванов', 'Иван', 'Иванович', '1980'], ['Петрова', 'Ирина', 'Михайловна', '2000']]\n"
     ]
    }
   ],
   "source": [
    "# read an .csv file splitting it by separators\n",
    "\n",
    "lines = []\n",
    "\n",
    "with open('csv_file.csv', encoding='UTF-8') as infile: # open a file using an alias\n",
    "    for line in infile:  # save each line in infile to the line variable one by one\n",
    "        lines.append(line.strip().split(', ')) # add another line to the list + remove \\n + split it by ','\n",
    "        \n",
    "print(lines)"
   ]
  },
  {
   "cell_type": "code",
   "execution_count": null,
   "metadata": {
    "id": "zOm2wJkzjkDN"
   },
   "outputs": [],
   "source": [
    "# write to a file -- a new file is created to write data (or an older file with the same name is overwritten)\n",
    "\n",
    "important_text = 'This is a very important text. It contains several lines. \\nAll lines are separated by a new line character.'\n",
    "with open('info.txt', 'w', encoding='UTF-8') as outfile:    # open the file for writing: 'w', we can include the actual code\n",
    "    print(important_text, file=outfile)"
   ]
  },
  {
   "cell_type": "code",
   "execution_count": null,
   "metadata": {
    "id": "MBDiIAXwjkDO"
   },
   "outputs": [],
   "source": [
    "# append to a file -- an existing file will open and new text will be added after the existing text\n",
    "important_text_3 = 'This is our third very important entry. We hope it will be written after the second one.'\n",
    "with open('info.txt', 'a', encoding='UTF-8') as outfile: # open the same file for appending: 'a' (append)\n",
    "    print(important_text_3, file=outfile) "
   ]
  }
 ],
 "metadata": {
  "colab": {
   "collapsed_sections": [],
   "name": "ENG_INTERM_CheatSheetPython.ipynb",
   "provenance": []
  },
  "kernelspec": {
   "display_name": "Python 3",
   "language": "python",
   "name": "python3"
  },
  "language_info": {
   "codemirror_mode": {
    "name": "ipython",
    "version": 3
   },
   "file_extension": ".py",
   "mimetype": "text/x-python",
   "name": "python",
   "nbconvert_exporter": "python",
   "pygments_lexer": "ipython3",
   "version": "3.8.5"
  }
 },
 "nbformat": 4,
 "nbformat_minor": 4
}
