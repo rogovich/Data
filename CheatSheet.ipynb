{
 "cells": [
  {
   "cell_type": "markdown",
   "metadata": {},
   "source": [
    "# Cheat Sheet\n",
    "\n",
    "### Основные функции\n",
    "`input()`  \n",
    "считать ввод.\n",
    "\n",
    "`print(x, sep=',', end='\\n')`  \n",
    "вывести на экран. x - аргумент для печати. `sep` задает разделитель между аргументами (по умолчанию пробел), `end` - какой сивол ставим в конце выведенной строки (по умолчанию переход на новую строку).\n",
    "\n",
    "`f'Hello {name}'`  \n",
    "форматированная строка, вместо name будет подставлено значение переменной.\n",
    "\n",
    "`len()`  \n",
    "возвращает количество элементов в объекте\n",
    "\n",
    "`sum()`  \n",
    "суммирует элементы списка\n",
    "\n",
    "`max()`  \n",
    "находит максимум списка, кортежа, множества\n",
    "\n",
    "`min()`  \n",
    "находит минимум списка, кортежа, множества\n",
    "\n",
    "`map(название функции, последовательность)`  \n",
    "применяет функцию ко всем элементам последовательности\n",
    "\n"
   ]
  },
  {
   "cell_type": "code",
   "execution_count": 24,
   "metadata": {},
   "outputs": [
    {
     "data": {
      "text/plain": [
       "['кот', 'пес', 'утконос']"
      ]
     },
     "execution_count": 24,
     "metadata": {},
     "output_type": "execute_result"
    }
   ],
   "source": [
    "list(map(str.lower, ['кОт', 'пЕс', 'УткОнОс']))"
   ]
  },
  {
   "cell_type": "markdown",
   "metadata": {},
   "source": [
    "### Функции для превращения в определенные типы данных\n",
    "\n",
    "`float()`  \n",
    "вещественное число\n",
    "\n",
    "`int()`  \n",
    "целое число\n",
    "\n",
    "`str()`   \n",
    "строка\n",
    "\n",
    "`list()`   \n",
    "список\n",
    "\n",
    "`set()`  \n",
    "множество\n",
    "\n",
    "`dict()`  \n",
    "словарь\n",
    "\n"
   ]
  },
  {
   "cell_type": "markdown",
   "metadata": {},
   "source": [
    "### Арифметические операции"
   ]
  },
  {
   "cell_type": "code",
   "execution_count": 3,
   "metadata": {},
   "outputs": [
    {
     "name": "stdout",
     "output_type": "stream",
     "text": [
      "13\n",
      "9\n",
      "22\n",
      "121\n",
      "5.5\n",
      "5\n",
      "1\n"
     ]
    }
   ],
   "source": [
    "print(11 + 2)   # Складывать\n",
    "print(11 - 2)   # Вычитать\n",
    "print(11 * 2)   # Умножать\n",
    "print(11 ** 2)  # Возводить в степень\n",
    "print(11 / 2)   # Делить. Результатом, как и на калькуляторе, будет дробное число\n",
    "print(11 // 2)  # Деление нацело даст целое число в качестве результата\n",
    "print(11 % 2)   # Остаток от деления нацело"
   ]
  },
  {
   "cell_type": "markdown",
   "metadata": {},
   "source": [
    "### Логические операции"
   ]
  },
  {
   "cell_type": "code",
   "execution_count": 9,
   "metadata": {},
   "outputs": [
    {
     "name": "stdout",
     "output_type": "stream",
     "text": [
      "True\n",
      "False\n",
      "False\n",
      "False\n",
      "True\n",
      "True\n",
      "True\n",
      "False\n"
     ]
    }
   ],
   "source": [
    "print(2 + 2 == 4) # равно\n",
    "print(2 + 2 != 4) # не равно\n",
    "print(2 + 2 < 4)  # меньше\n",
    "print(2 + 2 > 4)  # больше\n",
    "print(2 + 2 >= 4) # больше или равно\n",
    "print(2 + 2 <= 4) # меньше или равно\n",
    "print('o' in 'Hello') #  проверка на наличие в последовательности\n",
    "print('o' not in 'Hello') # проверка на отсутствие в последовательности"
   ]
  },
  {
   "cell_type": "code",
   "execution_count": 11,
   "metadata": {},
   "outputs": [
    {
     "name": "stdout",
     "output_type": "stream",
     "text": [
      "True\n",
      "False\n"
     ]
    },
    {
     "data": {
      "text/plain": [
       "False"
      ]
     },
     "execution_count": 11,
     "metadata": {},
     "output_type": "execute_result"
    }
   ],
   "source": [
    "age = 19\n",
    "print((age >= 18) and (age < 65)) # возраст 18 или старше И младше 65\n",
    "print((age < 18) or (age >= 65)) # возраст меньше 18 ИЛИ 65 и старше\n",
    "not(age == 19) # логическое отрицание"
   ]
  },
  {
   "cell_type": "markdown",
   "metadata": {},
   "source": [
    "### Условный оператор"
   ]
  },
  {
   "cell_type": "code",
   "execution_count": 12,
   "metadata": {},
   "outputs": [
    {
     "name": "stdout",
     "output_type": "stream",
     "text": [
      "Мужской пол\n"
     ]
    }
   ],
   "source": [
    "sex = 'male'\n",
    "if sex == 'male':\n",
    "    print('Мужской пол')\n",
    "elif sex == 'female':\n",
    "    print('Женский пол')\n",
    "else:\n",
    "    print('Пол не указан')"
   ]
  },
  {
   "cell_type": "markdown",
   "metadata": {},
   "source": [
    "### Цикл while\n"
   ]
  },
  {
   "cell_type": "code",
   "execution_count": 15,
   "metadata": {},
   "outputs": [
    {
     "name": "stdout",
     "output_type": "stream",
     "text": [
      "1\n",
      "2\n",
      "3\n",
      "4\n",
      "5\n"
     ]
    }
   ],
   "source": [
    "n = 1\n",
    "while n < 6:\n",
    "    print(n)\n",
    "    n = n + 1"
   ]
  },
  {
   "cell_type": "code",
   "execution_count": 21,
   "metadata": {},
   "outputs": [
    {
     "name": "stdout",
     "output_type": "stream",
     "text": [
      "['кот', 'капибара', 'утконос']\n"
     ]
    }
   ],
   "source": [
    "# сохраняйте в список животных, пока пользователь не введет \"конец\"\n",
    "animals = []\n",
    "while True:\n",
    "    animal = input()\n",
    "    if animal == 'конец':\n",
    "        break\n",
    "    animals.append(animal)\n",
    "    \n",
    "print(animals)"
   ]
  },
  {
   "cell_type": "markdown",
   "metadata": {},
   "source": [
    "### Цикл for"
   ]
  },
  {
   "cell_type": "code",
   "execution_count": 16,
   "metadata": {},
   "outputs": [
    {
     "name": "stdout",
     "output_type": "stream",
     "text": [
      "Маша\n",
      "Миша\n",
      "Глаша\n"
     ]
    }
   ],
   "source": [
    "students = ['Маша', 'Миша', 'Глаша']\n",
    "for student in students:\n",
    "    print(student)"
   ]
  },
  {
   "cell_type": "code",
   "execution_count": 17,
   "metadata": {},
   "outputs": [
    {
     "name": "stdout",
     "output_type": "stream",
     "text": [
      "Маша\n",
      "Миша\n",
      "Глаша\n"
     ]
    }
   ],
   "source": [
    "for i in range(len(students)):\n",
    "    print(students[i])"
   ]
  },
  {
   "cell_type": "markdown",
   "metadata": {},
   "source": [
    "### Операции c последовательностями (строки, кортежи, списки)"
   ]
  },
  {
   "cell_type": "code",
   "execution_count": 25,
   "metadata": {},
   "outputs": [
    {
     "name": "stdout",
     "output_type": "stream",
     "text": [
      "Hello Oleg\n",
      "HelloHello\n",
      "e\n"
     ]
    }
   ],
   "source": [
    "print('Hello' + ' Oleg') # склейка\n",
    "print('Hello' * 2)       # повторение\n",
    "print('Hello'[1])        # обращение к элементу по индексу"
   ]
  },
  {
   "cell_type": "markdown",
   "metadata": {},
   "source": [
    "* срезы позволяют обратиться сразу к нескольким символам внутри строки:\n",
    "    1. `'Hello'[2:4]` позволяет обратиться к символам слова Hello с индексами 2 и 3: `ll`;\n",
    "    2. `'Hello'[:3]` позволяет обратиться ко всем символам от символа с индексом 0 до символа с индексом 2: `Hel`;\n",
    "    3. `'Hello'[2:]` позволяет обратиться ко всем символам от символа с индексом 2 до конца строки: `llo`;\n",
    "    4. `'Hello'[:]` позволяет обратиться ко всем символам строки: `Hello`;\n",
    "    5. `'Hello'[-4:-1]` позволяет обратиться к символам с 4 до 1 (при нумерации с конца строки): `ell`\n",
    "    6. `'Hello'[::2]` достает каждую букву слова с шагом в два символа `Hlo`"
   ]
  },
  {
   "cell_type": "markdown",
   "metadata": {},
   "source": [
    "### Списки"
   ]
  },
  {
   "cell_type": "code",
   "execution_count": 22,
   "metadata": {},
   "outputs": [
    {
     "name": "stdout",
     "output_type": "stream",
     "text": [
      "['Даша', 'Миша', 'Глаша']\n"
     ]
    }
   ],
   "source": [
    "students = ['Маша', 'Миша', 'Глаша']\n",
    "students[0] = 'Даша' # замена элемента списка\n",
    "print(students)"
   ]
  },
  {
   "cell_type": "markdown",
   "metadata": {},
   "source": [
    "* `.append()` добавляет в существующий список новый элемент;\n",
    "* `.remove()` удаляет из существующего списка указанный элемент;\n",
    "* `.count()` подсчитывает, сколько раз указанный элемент входит в список;\n",
    "* `.index()` находит индекс первого элемента, совпадающего с указанным.\n",
    "\n",
    "Методы `.append()` и `.remove()` изменяют исходный список.\n",
    "\n",
    "Методы `.count()` и `.index()` можно применять и к кортежам."
   ]
  },
  {
   "cell_type": "markdown",
   "metadata": {},
   "source": [
    "### Методы строк\n",
    "\n",
    "* `.split()` разбивает строку по пробельным символам (в качестве аргумента можно задать свой разделитель\n",
    "* Метод строк `.join()` создаёт из списка строк новую строку. Строка, к которой был применён метод, станет разделителем между элементами: '.'.join([1,2,3]) создаст строку '1.2.3'.\n",
    "* `.isdigit()` позволяет проверить, что строка состоит только из цифр;\n",
    "* `.islower()` позволяет проверить, что строка состоит только из букв нижнего регистра (строчных);\n",
    "* `.isalpha()` позволяет проверить, что строка состоит только из букв;\n",
    "* `.isalnum()` позволяет проверить, что строка состоит только из букв и цифр;\n",
    "* `.replace()` позволяет создать новую строчку, заменив что-то в изначальной;\n",
    "* `.count()` позволяет понять, сколько раз последовательность символов встречалась в строке;\n",
    "* `.find()` и `.rfind()` позволяют найти индекс самой первой и самой последней найденной последовательности символов в строке. \n",
    "* `.lower()` создаёт новую строчку, где все буквы будут маленькими;\n",
    "* `.upper()` создаёт новую строчку, где все буквы будут большими;\n",
    "* `.strip()` создаёт новую строчку, где по бокам исходной строки удалены лишние символы. Без указания аргумента удаляет пробелы, но можно указать строку из символов, которые нужно считать лишними: `.strip('.')` будет считать лишним символом только точки;\n",
    "* `.lstrip()` и `.rstrip()` работают так же, как и `.strip()`, но удаляют символы только слева или только справа.\n",
    "* `.startswith()` проверяет, начинается ли строка с нужной нам последовательностью символов (или одной из нужных нам последовательностей символов);\n",
    "* `.endswith()`, аналогично, проверяет, кончается ли строка нужной нам последовательностью символов (или одной из нужных нам последовательностей символов);"
   ]
  },
  {
   "cell_type": "markdown",
   "metadata": {},
   "source": [
    "### Множества"
   ]
  },
  {
   "cell_type": "code",
   "execution_count": 29,
   "metadata": {},
   "outputs": [
    {
     "name": "stdout",
     "output_type": "stream",
     "text": [
      "{'ужик', 'собака', 'питон'}\n"
     ]
    }
   ],
   "source": [
    "pets = {'кошка', 'ужик', 'питон'}\n",
    "pets.add('собака') # добавим элемент в множество\n",
    "pets.remove('кошка') # удаляем элемент из множества\n",
    "print(pets)"
   ]
  },
  {
   "cell_type": "markdown",
   "metadata": {},
   "source": [
    "### Операции над множествами"
   ]
  },
  {
   "cell_type": "code",
   "execution_count": 32,
   "metadata": {},
   "outputs": [
    {
     "name": "stdout",
     "output_type": "stream",
     "text": [
      "{'рыбка', 'хамелеон', 'кошка', 'питон', 'ужик', 'собака', 'шиншилла'}\n",
      "{'кошка', 'ужик'}\n",
      "{'рыбка', 'шиншилла'}\n",
      "{'хамелеон', 'питон', 'собака'}\n",
      "{'рыбка', 'хамелеон', 'питон', 'шиншилла', 'собака'}\n"
     ]
    }
   ],
   "source": [
    "my_pets_list = {'кошка', 'рыбка', 'шиншилла', 'ужик'}\n",
    "friend_pets_list = {'собака', 'питон', 'ужик', 'кошка', 'хамелеон'}\n",
    "print(my_pets_list | friend_pets_list) # объединение\n",
    "print(my_pets_list & friend_pets_list) # пересечение\n",
    "print(my_pets_list - friend_pets_list) # разность 1\n",
    "print(friend_pets_list - my_pets_list) # разность 2\n",
    "print(my_pets_list ^ friend_pets_list) # симметрическая разность"
   ]
  },
  {
   "cell_type": "markdown",
   "metadata": {},
   "source": [
    "### Словари"
   ]
  },
  {
   "cell_type": "code",
   "execution_count": 34,
   "metadata": {},
   "outputs": [
    {
     "name": "stdout",
     "output_type": "stream",
     "text": [
      "яблоко\n",
      "{'apple': 'яблоко', 'hello': 'здравствуйте', 'world': 'мир'}\n",
      "{'apple': 'яблоко', 'hello': 'здравствуйте'}\n"
     ]
    }
   ],
   "source": [
    "eng_rus = {'apple': 'яблоко', 'hello': 'привет', 'world': 'мир'}\n",
    "\n",
    "print(eng_rus['apple']) # обращаемся к значению \"яблоко\" по его ключу - apple\n",
    "eng_rus['hello'] = 'здравствуйте' # перезаписываем значение ключа\n",
    "print(eng_rus) # печатаем измененный словарь\n",
    "del eng_rus['world'] # удаляем пару ключ:значение\n",
    "print(eng_rus) # печатаем измененный словарь"
   ]
  },
  {
   "cell_type": "code",
   "execution_count": 36,
   "metadata": {},
   "outputs": [
    {
     "name": "stdout",
     "output_type": "stream",
     "text": [
      "True\n",
      "False\n",
      "dict_values(['яблоко', 'привет', 'мир'])\n",
      "dict_values(['яблоко', 'привет', 'мир'])\n"
     ]
    }
   ],
   "source": [
    "eng_rus = {'apple': 'яблоко', 'hello': 'привет', 'world': 'мир'}\n",
    "\n",
    "print('apple' in eng_rus) # проверяем наличие ключа в словаре\n",
    "print('apple' not in eng_rus) # проверяем отсутствие ключа в словаре\n",
    "print(eng_rus.values()) # все значения словаря\n",
    "print(eng_rus.values()) # все ключи словаря"
   ]
  },
  {
   "cell_type": "code",
   "execution_count": 37,
   "metadata": {},
   "outputs": [
    {
     "name": "stdout",
     "output_type": "stream",
     "text": [
      "apple\n",
      "hello\n",
      "world\n"
     ]
    }
   ],
   "source": [
    "# перебираем все ключи словаря\n",
    "for key in eng_rus:\n",
    "    print(key)"
   ]
  },
  {
   "cell_type": "code",
   "execution_count": 42,
   "metadata": {},
   "outputs": [
    {
     "name": "stdout",
     "output_type": "stream",
     "text": [
      "яблоко\n",
      "привет\n",
      "мир\n",
      "яблоко\n",
      "привет\n",
      "мир\n",
      "apple яблоко\n",
      "hello привет\n",
      "world мир\n"
     ]
    }
   ],
   "source": [
    "# перебираем все значения словаря\n",
    "for key in eng_rus:\n",
    "    print(eng_rus[key])\n",
    "\n",
    "# второй способ\n",
    "for value in eng_rus.values():\n",
    "    print(value)\n",
    "\n",
    "# печатаем ключ и соответствующее ему значение\n",
    "for key in eng_rus:\n",
    "    print(key, eng_rus[key])"
   ]
  },
  {
   "cell_type": "code",
   "execution_count": null,
   "metadata": {},
   "outputs": [],
   "source": []
  }
 ],
 "metadata": {
  "kernelspec": {
   "display_name": "Python 3",
   "language": "python",
   "name": "python3"
  },
  "language_info": {
   "codemirror_mode": {
    "name": "ipython",
    "version": 3
   },
   "file_extension": ".py",
   "mimetype": "text/x-python",
   "name": "python",
   "nbconvert_exporter": "python",
   "pygments_lexer": "ipython3",
   "version": "3.6.5"
  }
 },
 "nbformat": 4,
 "nbformat_minor": 2
}
