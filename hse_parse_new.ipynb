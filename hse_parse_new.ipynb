{
 "cells": [
  {
   "cell_type": "code",
   "execution_count": 28,
   "metadata": {},
   "outputs": [],
   "source": [
    "from bs4 import BeautifulSoup\n",
    "import requests\n",
    "\n",
    "link = 'https://cs.hse.ru/persons'\n",
    "soup = BeautifulSoup(requests.get(link).text, 'lxml')"
   ]
  },
  {
   "cell_type": "code",
   "execution_count": 29,
   "metadata": {},
   "outputs": [
    {
     "name": "stdout",
     "output_type": "stream",
     "text": [
      "2578\n"
     ]
    },
    {
     "data": {
      "text/plain": [
       "[<a class=\"link link_no-visited link_no-underline\" href=\"https://cs.hse.ru/persons/\">RU</a>,\n",
       " <a class=\"link link_no-visited link_no-underline\" href=\"https://cs.hse.ru/en/persons/\">EN</a>,\n",
       " <a class=\"link link_dark no-visited\" href=\"//www.hse.ru/search/search.html?simple=0\">Расширенный поиск по сайту</a>,\n",
       " <a class=\"link header_breadcrumb__link\" href=\"//www.hse.ru\">\n",
       " <span>Национальный исследовательский университет «Высшая школа экономики»</span>\n",
       " </a>,\n",
       " <a class=\"link header_breadcrumb__link\" href=\"http://www.hse.ru/education/faculty/\">\n",
       " <span>Факультеты</span>\n",
       " </a>]"
      ]
     },
     "execution_count": 29,
     "metadata": {},
     "output_type": "execute_result"
    }
   ],
   "source": [
    "print(len(soup.find_all('a')))\n",
    "soup.find_all('a', {'class':'link'})[:5]"
   ]
  },
  {
   "cell_type": "code",
   "execution_count": 30,
   "metadata": {},
   "outputs": [],
   "source": [
    "persons_links = set()\n",
    "\n",
    "for link in soup.find_all('a'):\n",
    "    try:\n",
    "        link_href = link.get('href')\n",
    "        if (('staff' in link_href) or ('persons' in link_href)) and ('?' not in link_href):\n",
    "            persons_links.add(link.get('href'))\n",
    "    except:\n",
    "        pass"
   ]
  },
  {
   "cell_type": "code",
   "execution_count": 31,
   "metadata": {},
   "outputs": [
    {
     "data": {
      "text/plain": [
       "378"
      ]
     },
     "execution_count": 31,
     "metadata": {},
     "output_type": "execute_result"
    }
   ],
   "source": [
    "len(persons_links)"
   ]
  },
  {
   "cell_type": "code",
   "execution_count": 36,
   "metadata": {},
   "outputs": [
    {
     "name": "stdout",
     "output_type": "stream",
     "text": [
      "['http://www.hse.ru/org/persons/191823857', 'http://www.hse.ru/org/persons/225575569', 'http://www.hse.ru/org/persons/7103512', 'http://www.hse.ru/org/persons/307094510', 'http://https://cs.hse.ru/hdilab/persons', 'http://www.hse.ru/org/persons/14266660', 'http://www.hse.ru/org/persons/191193864', 'http://www.hse.ru/org/persons/207133933', 'http://www.hse.ru/org/persons/218368371', 'http://www.hse.ru/org/persons/137291612', 'http://www.hse.ru/org/persons/68153', 'http://www.hse.ru/staff/leyla', 'http://www.hse.ru/org/persons/309076802', 'http://www.hse.ru/org/persons/228364473', 'http://www.hse.ru/org/persons/68054814', 'http://www.hse.ru/org/persons/305072987', 'http://www.hse.ru/staff/arazorenova', 'http://www.hse.ru/org/persons/148813333', 'http://www.hse.ru/org/persons/307095000', 'http://www.hse.ru/org/persons/221998534', 'http://www.hse.ru/org/persons/161005930', 'http://www.hse.ru/staff/anaumov', 'http://www.hse.ru/staff/a_levin', 'http://www.hse.ru/staff/lzhukov', 'http://www.hse.ru/org/persons/212370635', 'http://www.hse.ru/org/persons/345145522', 'http://www.hse.ru/org/persons/149757595', 'http://https://cs.hse.ru/dpo/persons', 'http://www.hse.ru/org/persons/360963415', 'http://www.hse.ru/staff/akonushin', 'http://www.hse.ru/org/persons/165212886', 'http://https://cs.hse.ru/ai/computational-pragmatics/persons', 'http://www.hse.ru/org/persons/148764989', 'http://www.hse.ru/org/persons/305112787', 'http://www.hse.ru/staff/kdegtiarev', 'http://www.hse.ru/org/persons/307981475', 'http://www.hse.ru/staff/mrartemev', 'http://www.hse.ru/org/persons/305134539', 'http://www.hse.ru/staff/erina', 'http://www.hse.ru/staff/arjantsev', 'http://www.hse.ru/org/persons/101557140', 'http://www.hse.ru/staff/azarova', 'http://www.hse.ru/org/persons/3979715', 'http://www.hse.ru/staff/pmanakhov', 'http://www.hse.ru/staff/mkiseljov', 'http://www.hse.ru/org/persons/48831379', 'http://www.hse.ru/staff/dvetrov', 'http://www.hse.ru/staff/nveselko', 'http://www.hse.ru/org/persons/216061632', 'http://www.hse.ru/org/persons/305083614', 'http://www.hse.ru/staff/fildyaeva', 'http://www.hse.ru/org/persons/160550073', 'http://https://cs.hse.ru/big-data/tcs-lab/persons', 'http://https://cs.hse.ru/big-data/bayeslab/samsunglab/persons', 'http://www.hse.ru/org/persons/80974798', 'http://https://cs.hse.ru/ata-lab/persons', 'http://www.hse.ru/staff/sbobkov', 'http://www.hse.ru/org/persons/63679989', 'http://www.hse.ru/org/persons/190922705', 'http://www.hse.ru/org/persons/227354872', 'http://www.hse.ru/staff/agnitienko', 'http://www.hse.ru/org/persons/261089715', 'http://www.hse.ru/org/persons/224066548', 'http://www.hse.ru/org/persons/225549530', 'http://www.hse.ru/staff/cherepanov', 'http://www.hse.ru/org/persons/101523055', 'http://www.hse.ru/org/persons/212209110', 'http://www.hse.ru/org/persons/234904335', 'http://www.hse.ru/org/persons/320473622', 'http://www.hse.ru/staff/eibolshakova', 'http://https://cs.hse.ru/tmsyst/persons', 'http://www.hse.ru/org/persons/160955245', 'http://www.hse.ru/org/persons/376324967', 'http://www.hse.ru/org/persons/24487003', 'http://www.hse.ru/org/persons/223725084', 'http://www.hse.ru/org/persons/211635878', 'http://www.hse.ru/org/persons/23597497', 'http://www.hse.ru/staff/iakarpov', 'http://www.hse.ru/org/persons/306101187', 'http://www.hse.ru/staff/austyuzhanin', 'http://www.hse.ru/org/persons/225573220', 'http://www.hse.ru/org/persons/160985306', 'http://www.hse.ru/org/persons/160974244', 'http://www.hse.ru/org/persons/225564202', 'http://www.hse.ru/org/persons/190903389', 'http://https://pais.hse.ru/persons', 'http://www.hse.ru/staff/ilomazova', 'http://www.hse.ru/org/persons/208496675', 'http://www.hse.ru/org/persons/376324974', 'http://https://cs.hse.ru/persons', 'http://www.hse.ru/org/persons/352454021', 'http://www.hse.ru/org/persons/350448660', 'http://www.hse.ru/org/persons/310770575', 'http://www.hse.ru/org/persons/190916622', 'http://www.hse.ru/org/persons/190883815', 'http://www.hse.ru/org/persons/394587325', 'http://www.hse.ru/staff/olegm', 'http://www.hse.ru/org/persons/403579823', 'http://www.hse.ru/org/persons/381099545', 'http://www.hse.ru/staff/yakovlev-ks', 'http://www.hse.ru/org/persons/14279019', 'http://www.hse.ru/org/persons/131072080', 'http://www.hse.ru/staff/ogerasimova', 'http://www.hse.ru/staff/smakarov', 'http://www.hse.ru/org/persons/306101194', 'http://www.hse.ru/staff/mekarpov', 'http://www.hse.ru/org/persons/366345866', 'http://https://cs.hse.ru/ai/issa/persons', 'http://www.hse.ru/org/persons/376324953', 'http://www.hse.ru/staff/mkanovich', 'http://www.hse.ru/staff/samonenko', 'http://www.hse.ru/org/persons/205487138', 'http://www.hse.ru/org/persons/92423005', 'http://www.hse.ru/staff/valiullin', 'http://www.hse.ru/org/persons/208508607', 'http://www.hse.ru/org/persons/190912858', 'http://www.hse.ru/staff/avdoshin', 'http://www.hse.ru/org/persons/110258149', 'http://www.hse.ru/org/persons/200501657', 'http://www.hse.ru/org/persons/161002023', 'http://www.hse.ru/org/persons/205653', 'http://www.hse.ru/staff/vdudarev', 'http://www.hse.ru/staff/matyushinleonid', 'http://www.hse.ru/staff/dbocharova', 'http://www.hse.ru/org/persons/207923487', 'http://www.hse.ru/staff/mkaledin', 'http://www.hse.ru/org/persons/201252392', 'http://www.hse.ru/staff/iamakarov', 'http://www.hse.ru/org/persons/3468544', 'http://www.hse.ru/org/persons/366345776', 'http://www.hse.ru/org/persons/401783223', 'http://www.hse.ru/staff/bmirkin', 'http://www.hse.ru/org/persons/191486005', 'http://https://cs.hse.ru/en/persons', 'http://www.hse.ru/staff/igergart', 'http://www.hse.ru/staff/kkharlashova', 'http://www.hse.ru/staff/opianykh', 'http://www.hse.ru/org/persons/204848606', 'http://https://cs.hse.ru/big-data/geometry/persons', 'http://www.hse.ru/org/persons/219616597', 'http://www.hse.ru/org/persons/376377894', 'http://www.hse.ru/staff/yurypakhomov', 'http://www.hse.ru/org/persons/225555361', 'http://https://cs.hse.ru/dse/persons', 'http://www.hse.ru/staff/beresneva', 'http://www.hse.ru/org/persons/401783247', 'http://www.hse.ru/org/persons/134073109', 'http://www.hse.ru/org/persons/376324946', 'http://www.hse.ru/org/persons/160968956', 'http://www.hse.ru/org/persons/401779574', 'http://www.hse.ru/org/persons/210272921', 'http://www.hse.ru/org/persons', 'http://www.hse.ru/staff/aossadtchi', 'http://www.hse.ru/org/persons/159783729', 'http://www.hse.ru/org/persons/305054673', 'http://www.hse.ru/org/persons/191263029', 'http://www.hse.ru/org/persons/103489477', 'http://www.hse.ru/org/persons/213228720', 'http://www.hse.ru/org/persons/139749386', 'http://www.hse.ru/staff/rakhmetsafina', 'http://www.hse.ru/org/persons/356480106', 'http://www.hse.ru/staff/filipenkov', 'http://www.hse.ru/staff/mryabinin', 'http://www.hse.ru/org/persons/401779815', 'http://www.hse.ru/org/persons/160969921', 'http://www.hse.ru/org/persons/376324939', 'http://www.hse.ru/staff/gordenko', 'http://https://cs.hse.ru/165003341/persons', 'http://www.hse.ru/staff/abashidze', 'http://www.hse.ru/org/persons/160981075', 'http://www.hse.ru/staff/arubtsov', 'http://www.hse.ru/org/persons/223276994', 'http://www.hse.ru/org/persons/113170202', 'http://www.hse.ru/org/persons/166418564', 'http://www.hse.ru/staff/maevskiy', 'http://www.hse.ru/org/persons/176125335', 'http://www.hse.ru/staff/sobolevski', 'http://www.hse.ru/org/persons/160956272', 'http://www.hse.ru/org/persons/186653225', 'http://www.hse.ru/org/persons/263877245', 'http://www.hse.ru/staff/moulines', 'http://www.hse.ru/org/persons/314014069', 'http://www.hse.ru/org/persons/168072715', 'http://www.hse.ru/staff/esokolov', 'http://https://cs.hse.ru/ai/persons', 'http://www.hse.ru/org/persons/237482889', 'http://www.hse.ru/org/persons/176000050', 'http://www.hse.ru/org/persons/341488187', 'http://www.hse.ru/staff/maksimenkova', 'http://www.hse.ru/org/persons/403579918', 'http://www.hse.ru/org/persons/403579779', 'http://www.hse.ru/org/persons/348330900', 'http://www.hse.ru/org/persons/160995852', 'http://www.hse.ru/org/persons/137640576', 'http://www.hse.ru/org/persons/25918496', 'http://www.hse.ru/org/persons/190912317', 'http://www.hse.ru/staff/vbakanov', 'http://www.hse.ru/org/persons/161322763', 'http://www.hse.ru/org/persons/101527676', 'http://www.hse.ru/org/persons/365870760', 'http://www.hse.ru/org/persons/137335270', 'http://www.hse.ru/org/persons/401779588', 'http://www.hse.ru/staff/dsmaevskiy', 'http://https://cs.hse.ru/sas/persons', 'http://www.hse.ru/staff/gzhukova', 'http://www.hse.ru/org/persons/396287011', 'http://www.hse.ru/org/persons/160982606', 'http://www.hse.ru/org/persons/126885340', 'http://www.hse.ru/org/persons/222507783', 'http://www.hse.ru/staff/ikayali', 'http://www.hse.ru/org/persons/35919212', 'http://www.hse.ru/org/persons/161646608', 'http://www.hse.ru/staff/dsh', 'http://www.hse.ru/org/persons/318659918', 'http://www.hse.ru/staff/roslovtseva', 'http://www.hse.ru/org/persons/133709478', 'http://https://cs.hse.ru/mmsa/persons', 'http://www.hse.ru/org/persons/212698824', 'http://www.hse.ru/org/persons/225526439', 'http://www.hse.ru/org/persons/39354586', 'http://www.hse.ru/org/persons/25924106', 'http://www.hse.ru/org/persons/160997646', 'http://www.hse.ru/org/persons/190884100', 'http://www.hse.ru/staff/elinachentsova', 'http://www.hse.ru/org/persons/137291113', 'http://www.hse.ru/staff/jcarrasquel', 'http://https://cs.hse.ru/big-data/bioinform/persons', 'http://www.hse.ru/org/persons/103489463', 'http://www.hse.ru/staff/mborisyak', 'http://www.hse.ru/org/persons/348331005', 'http://www.hse.ru/org/persons/219484540', 'http://www.hse.ru/org/persons/208529760', 'http://www.hse.ru/org/persons/138281399', 'http://www.hse.ru/org/persons/376324960', 'http://www.hse.ru/org/persons/5487172', 'http://www.hse.ru/org/persons/332100744', 'http://https://cs.hse.ru/big-data/persons', 'http://www.hse.ru/staff/svdcvt', 'http://www.hse.ru/staff/zherebtsova', 'http://www.hse.ru/org/persons/93130881', 'http://www.hse.ru/org/persons/225591112', 'http://www.hse.ru/org/persons/223536224', 'http://www.hse.ru/staff/mzakharyaschev', 'http://www.hse.ru/org/persons/165212878', 'http://https://cs.hse.ru/lambda/persons', 'http://www.hse.ru/org/persons/101548670', 'http://www.hse.ru/org/persons/191576735', 'http://www.hse.ru/org/persons/208522862', 'http://www.hse.ru/org/persons/321789526', 'http://www.hse.ru/org/persons/216971953', 'http://www.hse.ru/org/persons/68184', 'http://www.hse.ru/org/persons/325138530', 'http://www.hse.ru/org/persons/224875083', 'http://www.hse.ru/org/persons/150045920', 'http://https://cs.hse.ru/big-data/yandexlab/persons', 'http://www.hse.ru/staff/etyuryumina', 'http://www.hse.ru/org/persons/188534594', 'http://www.hse.ru/org/persons/305936408', 'http://www.hse.ru/org/persons/214487921', 'http://https://cs.hse.ru/cppr/persons', 'http://www.hse.ru/staff/ramazyant', 'http://www.hse.ru/staff/sshershakov', 'http://www.hse.ru/org/persons/370676739', 'http://www.hse.ru/org/persons/134220270', 'http://www.hse.ru/org/persons/46727543', 'http://www.hse.ru/org/persons/36555254', 'http://www.hse.ru/org/persons/160961895', 'http://www.hse.ru/staff/FlyingSpaghettiMonster', 'http://www.hse.ru/org/persons/344892386', 'http://www.hse.ru/staff/sergey.zamyatnin', 'http://www.hse.ru/org/persons/209508745', 'http://www.hse.ru/org/persons/225541489', 'http://www.hse.ru/org/persons/373151662', 'http://www.hse.ru/org/persons/209638541', 'http://www.hse.ru/org/persons/160996101', 'http://www.hse.ru/org/persons/213369348', 'http://www.hse.ru/org/persons/104346561', 'http://https://cs.hse.ru/big-data/bayeslab/persons', 'http://www.hse.ru/org/persons/191576426', 'http://www.hse.ru/org/persons/316426865', 'http://www.hse.ru/staff/skuznetsov', 'http://www.hse.ru/staff/katsenko', 'http://www.hse.ru/org/persons/148710778', 'http://www.hse.ru/org/persons/218157956', 'http://www.hse.ru/org/persons/209638557', 'http://www.hse.ru/staff/dilvovsky', 'http://www.hse.ru/org/persons/148322771', 'http://www.hse.ru/org/persons/222507810', 'http://www.hse.ru/org/persons/3807115', 'http://www.hse.ru/staff/anvar', 'http://www.hse.ru/staff/atikhomirov', 'http://www.hse.ru/org/persons/278216395', 'http://www.hse.ru/org/persons/190921075', 'http://https://cs.hse.ru/big-data/csmc/persons', 'http://www.hse.ru/org/persons/133408680', 'http://www.hse.ru/staff/voznesenskaya', 'http://www.hse.ru/org/persons/213058195', 'http://www.hse.ru/org/persons/396287024', 'http://https://cs.hse.ru/for-staff', 'http://www.hse.ru/org/persons/317137298', 'http://www.hse.ru/org/persons/401780355', 'http://www.hse.ru/org/persons/305936815', 'http://www.hse.ru/org/persons/317637841', 'http://www.hse.ru/staff/artemova', 'http://www.hse.ru/org/persons/160957246', 'http://www.hse.ru/org/persons/101546679', 'http://www.hse.ru/org/persons/161003527', 'http://www.hse.ru/org/persons/302643361', 'http://www.hse.ru/staff/vereshchagin', 'http://www.hse.ru/org/persons/321572705', 'http://www.hse.ru/org/persons/65798468', 'http://https://cs.hse.ru/dse/1c/persons', 'http://www.hse.ru/org/persons/350121914', 'http://www.hse.ru/org/persons/219293044', 'http://www.hse.ru/org/persons/190890838', 'http://www.hse.ru/staff/obiedkov', 'http://www.hse.ru/org/persons/137331143', 'http://www.hse.ru/staff/aneznanov', 'http://www.hse.ru/org/persons/100060671', 'http://www.hse.ru/org/persons/225525888', 'http://www.hse.ru/org/persons/175432996', 'http://www.hse.ru/org/persons/133709471', 'http://www.hse.ru/org/persons/352886883', 'http://www.hse.ru/org/persons/192181759', 'http://www.hse.ru/staff/aparinov', 'http://www.hse.ru/staff/akerteszfarkas', 'http://www.hse.ru/staff/rodriges', 'http://www.hse.ru/org/persons/225570978', 'http://www.hse.ru/staff/amitsyuk', 'http://https://cs.hse.ru/persons', 'http://www.hse.ru/org/persons/305058543', 'http://www.hse.ru/org/persons/208497808', 'http://www.hse.ru/org/persons/46745470', 'http://www.hse.ru/org/persons/14007605', 'http://www.hse.ru/org/persons/27235963', 'http://www.hse.ru/staff/belova', 'http://www.hse.ru/org/persons/310979390', 'http://www.hse.ru/org/persons/218352233', 'http://www.hse.ru/org/persons/174480967', 'http://www.hse.ru/org/persons/211363144', 'http://www.hse.ru/org/persons/160972162', 'http://www.hse.ru/org/persons/352454011', 'http://www.hse.ru/staff/GT', 'http://www.hse.ru/org/persons/305123402', 'http://www.hse.ru/staff/lantropova', 'http://www.hse.ru/org/persons/190912012', 'http://www.hse.ru/staff/aosokin', 'http://www.hse.ru/staff/dfrolenkov', 'http://www.hse.ru/org/persons/112929840', 'http://www.hse.ru/org/persons/321789519', 'http://www.hse.ru/org/persons/202722706', 'http://www.hse.ru/org/persons/395786925', 'http://www.hse.ru/org/persons/217721062', 'http://www.hse.ru/staff/dima', 'http://www.hse.ru/org/persons/224066644', 'http://www.hse.ru/staff/rnesterov', 'http://www.hse.ru/staff/biryuk', 'http://www.hse.ru/org/persons/188914774', 'http://https://cs.hse.ru/big-data/bayeslab/daft/persons', 'http://www.hse.ru/org/persons/224876029', 'http://www.hse.ru/org/persons/216408425', 'http://www.hse.ru/org/persons/77967', 'http://www.hse.ru/staff/kenenbek', 'http://www.hse.ru/org/persons/158485737', 'http://www.hse.ru/org/persons/279541570', 'http://www.hse.ru/staff/bsokolov', 'http://www.hse.ru/org/persons/132843899', 'http://https://cs.hse.ru/dse/sp/persons', 'http://www.hse.ru/org/persons/263144183', 'http://www.hse.ru/org/persons/365870753', 'http://https://cs.hse.ru/big-data/yandex/persons', 'http://www.hse.ru/org/persons/200501687', 'http://www.hse.ru/staff/nchuykin', 'http://www.hse.ru/org/persons/49503846', 'http://www.hse.ru/staff/Iosipoi', 'http://www.hse.ru/org/persons/25910366', 'http://www.hse.ru/staff/kazeev', 'http://www.hse.ru/org/persons/161646599']\n"
     ]
    }
   ],
   "source": [
    "persons_list = list(persons_links)\n",
    "persons_list = ['http://' + elem.strip('//') for elem in persons_list]\n",
    "print(persons_list)"
   ]
  },
  {
   "cell_type": "code",
   "execution_count": 42,
   "metadata": {},
   "outputs": [
    {
     "name": "stdout",
     "output_type": "stream",
     "text": [
      "{'Попцова Мария Сергеевна': 'https://www.hse.ru//data/2020/01/11/365040347054515/1MariaPoptsovaCV_2019.pdf', 'Сапарина Ирина Олеговна': 'https://www.hse.ru//data/2018/12/18/12700327357033/CV_ru.pdf', 'Бабенко Максим Александрович': 'https://www.hse.ru//data/2014/02/21/1241147082/CVBabenko.pdf', 'Кодрян Максим Станиславович': 'https://www.hse.ru//data/2019/09/24/175182767468342/%D0%9A%D0%BE%D0%B4%D1%80%D1%8F%D0%BD_%D1%80%D0%B5%D0%B7%D1%8E%D0%BC%D0%B5_%D1%80%D1%83%D1%81.pdf', 'Яковлева Илона Александровна': 'https://www.hse.ru//data/2020/08/30/294040652059594/%D0%AF%D0%BA%D0%BE%D0%B2%D0%BB%D0%B5%D0%B2%D0%B0%20%D0%98%D0%BB%D0%BE%D0%BD%D0%B0%20(1).pdf', 'Пучкин Никита Андреевич': 'https://www.hse.ru//data/2018/06/03/106820579200462/puchkin_cv_rus.pdf', 'Гадецкий Артем Валерьевич': 'https://www.hse.ru//data/2019/03/12/310912501447694/CV.pdf', 'Колесниченко Елена Юрьевна': 'https://www.hse.ru//data/2019/11/29/125140360151399/%D0%A0%D0%B5%D0%B7%D1%8E%D0%BC%D0%B5_%D0%9A%D0%BE%D0%BB%D0%B5%D1%81%D0%BD%D0%B8%D1%87%D0%B5%D0%BD%D0%BA%D0%BE.pdf', 'Волохова Александра Константиновна': 'https://www.hse.ru//data/2019/11/27/175160357590826/1CV_Alexandra_Volokhova.pdf', 'Осипов Дмитрий Сергеевич': 'https://www.hse.ru//data/2016/09/09/50162690644085/%D0%9E%D1%81%D0%B8%D0%BF%D0%BE%D0%B2CV2016%D1%80%D1%83%D1%81NEW.pdf', 'Разоренова Александра Михайловна': 'https://www.hse.ru//data/2017/09/21/77290576034676/1%20%D0%A0%D0%B0%D0%B7%D0%BE%D1%80%D0%B5%D0%BD%D0%BE%D0%B2%D0%B0%20%D0%A0%D0%B5%D0%B7%D1%8E%D0%BC%D0%B5%202%20.doc', 'Зарманбетов Ахмед Курманалиевич': 'https://www.hse.ru//data/2019/11/02/81430606552067/cv(rus).pdf', 'Мулине Эрик Франсуа Виктор': 'https://www.hse.ru//data/2018/08/01/1152216852/1CV-Moulines.pdf'}\n"
     ]
    }
   ],
   "source": [
    "import time\n",
    "import random\n",
    "cv = {}\n",
    "for link in persons_list[:20]:\n",
    "    time.sleep(random.randint(1,5))\n",
    "    try:\n",
    "        link_text = requests.get(link).text\n",
    "        if 'Резюме' in link_text:\n",
    "            soup = BeautifulSoup(link_text, 'lxml')\n",
    "            key = re.findall('Сотрудники - ([\\w\\s]+)', soup.find_all('title')[0].get_text())[0].strip()\n",
    "            value = 'https://www.hse.ru/' + soup.find_all('a', text='Резюме')[0].get('href')\n",
    "            cv[key] = value\n",
    "    except:\n",
    "        pass\n",
    "\n",
    "print(cv)\n"
   ]
  },
  {
   "cell_type": "code",
   "execution_count": 48,
   "metadata": {},
   "outputs": [],
   "source": [
    "for key,value in cv.items():\n",
    "    doc = requests.get(value, stream=True) # потоковое чтение файла, потому pdf может быть большим и не уместиться в памяти\n",
    "    if doc.headers['content-type'] == 'application/pdf': # на всякий случай делаем проверку, иначе получим битый файл\n",
    "        fh = open(f'{key}.pdf', 'wb') # wb - запись байтовой информации\n",
    "        fh.write(doc.content) # считываем туда \"содержание\" файла по ссылке\n",
    "        fh.close()\n",
    "    "
   ]
  },
  {
   "cell_type": "code",
   "execution_count": 65,
   "metadata": {},
   "outputs": [
    {
     "ename": "KeyboardInterrupt",
     "evalue": "",
     "output_type": "error",
     "traceback": [
      "\u001b[1;31m---------------------------------------------------------------------------\u001b[0m",
      "\u001b[1;31mKeyboardInterrupt\u001b[0m                         Traceback (most recent call last)",
      "\u001b[1;32m<ipython-input-65-29a122b13692>\u001b[0m in \u001b[0;36m<module>\u001b[1;34m()\u001b[0m\n\u001b[0;32m      1\u001b[0m \u001b[0mlanguages\u001b[0m \u001b[1;33m=\u001b[0m \u001b[1;33m{\u001b[0m\u001b[1;33m}\u001b[0m\u001b[1;33m\u001b[0m\u001b[0m\n\u001b[0;32m      2\u001b[0m \u001b[1;32mfor\u001b[0m \u001b[0mlink\u001b[0m \u001b[1;32min\u001b[0m \u001b[0mpersons_list\u001b[0m\u001b[1;33m:\u001b[0m\u001b[1;33m\u001b[0m\u001b[0m\n\u001b[1;32m----> 3\u001b[1;33m     \u001b[0mtime\u001b[0m\u001b[1;33m.\u001b[0m\u001b[0msleep\u001b[0m\u001b[1;33m(\u001b[0m\u001b[0mrandom\u001b[0m\u001b[1;33m.\u001b[0m\u001b[0mrandint\u001b[0m\u001b[1;33m(\u001b[0m\u001b[1;36m1\u001b[0m\u001b[1;33m,\u001b[0m\u001b[1;36m5\u001b[0m\u001b[1;33m)\u001b[0m\u001b[1;33m)\u001b[0m\u001b[1;33m\u001b[0m\u001b[0m\n\u001b[0m\u001b[0;32m      4\u001b[0m     \u001b[1;32mtry\u001b[0m\u001b[1;33m:\u001b[0m\u001b[1;33m\u001b[0m\u001b[0m\n\u001b[0;32m      5\u001b[0m         \u001b[0mlink_text\u001b[0m \u001b[1;33m=\u001b[0m \u001b[0mrequests\u001b[0m\u001b[1;33m.\u001b[0m\u001b[0mget\u001b[0m\u001b[1;33m(\u001b[0m\u001b[0mlink\u001b[0m\u001b[1;33m)\u001b[0m\u001b[1;33m.\u001b[0m\u001b[0mtext\u001b[0m\u001b[1;33m\u001b[0m\u001b[0m\n",
      "\u001b[1;31mKeyboardInterrupt\u001b[0m: "
     ]
    }
   ],
   "source": [
    "languages = {}\n",
    "for link in persons_list:\n",
    "    time.sleep(random.randint(1,5))\n",
    "    try:\n",
    "        link_text = requests.get(link).text\n",
    "        soup = BeautifulSoup(link_text, 'lxml')\n",
    "        langs = soup.find_all('dl', {'class':\"main-list large main-list-language-knowledge-level\"})[0].find_all(\"dd\")\n",
    "        langs = [lang.get_text() for lang in langs]\n",
    "        for lang in langs:\n",
    "            languages[lang] = languages.get(lang, 0) + 1\n",
    "\n",
    "\n",
    "    except:\n",
    "        pass\n",
    "    \n"
   ]
  },
  {
   "cell_type": "code",
   "execution_count": 66,
   "metadata": {},
   "outputs": [
    {
     "data": {
      "text/plain": [
       "{'французский': 20,\n",
       " 'английский': 112,\n",
       " 'русский': 19,\n",
       " 'немецкий': 13,\n",
       " 'испанский': 3,\n",
       " 'украинский': 2,\n",
       " 'китайский': 1,\n",
       " 'нидерландский': 1,\n",
       " 'хинди': 1,\n",
       " 'сербский': 2,\n",
       " 'английский (Читаю, перевожу, пишу научные статьи)': 1,\n",
       " 'английский (IELTS 7)': 1,\n",
       " 'итальянский': 1,\n",
       " 'английский (свободный)': 1,\n",
       " 'английский (Свободное владение)': 1,\n",
       " 'немецкий (Средний уровень)': 1,\n",
       " 'французский (Средний уровень)': 1,\n",
       " 'исландский': 1,\n",
       " 'японский': 1}"
      ]
     },
     "execution_count": 66,
     "metadata": {},
     "output_type": "execute_result"
    }
   ],
   "source": [
    "languages"
   ]
  },
  {
   "cell_type": "code",
   "execution_count": 62,
   "metadata": {},
   "outputs": [
    {
     "name": "stdout",
     "output_type": "stream",
     "text": [
      "http://www.hse.ru/org/persons/191823857\n"
     ]
    },
    {
     "data": {
      "text/plain": [
       "['французский', 'английский']"
      ]
     },
     "execution_count": 62,
     "metadata": {},
     "output_type": "execute_result"
    }
   ],
   "source": [
    "print(link)\n",
    "link_text = requests.get(link).text\n",
    "soup = BeautifulSoup(link_text, 'lxml')\n",
    "langs = soup.find_all('dl', {'class':\"main-list large main-list-language-knowledge-level\"})[0].find_all(\"dd\")\n",
    "langs = [lang.get_text() for lang in langs]\n",
    "langs"
   ]
  },
  {
   "cell_type": "code",
   "execution_count": null,
   "metadata": {},
   "outputs": [],
   "source": []
  }
 ],
 "metadata": {
  "kernelspec": {
   "display_name": "Python 3",
   "language": "python",
   "name": "python3"
  },
  "language_info": {
   "codemirror_mode": {
    "name": "ipython",
    "version": 3
   },
   "file_extension": ".py",
   "mimetype": "text/x-python",
   "name": "python",
   "nbconvert_exporter": "python",
   "pygments_lexer": "ipython3",
   "version": "3.6.5"
  }
 },
 "nbformat": 4,
 "nbformat_minor": 2
}
