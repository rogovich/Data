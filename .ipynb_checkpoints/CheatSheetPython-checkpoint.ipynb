{
 "cells": [
  {
   "cell_type": "markdown",
   "metadata": {},
   "source": [
    "# Cheat Sheet\n",
    "\n",
    "### Типы данных\n",
    "\n",
    "| Как мы их называем | Как они называютcя по-английски | Как они называются в Python | \n",
    "| :- | :- | :- |\n",
    "| **\"Естественные\" типы данных** | \n",
    "| целое число | integer | `int` |\n",
    "| вещественное число | floating-point number | `float` |\n",
    "| логическая переменная | boolean / logical | `bool` |\n",
    "| **Упорядоченные типы данных (последовательности)** |\n",
    "| строка | string | `str` |\n",
    "| список | list | `lst` |\n",
    "| кортеж | tuple | `tuple` |\n",
    "| **Неупорядоченные типы данных (коллекции)** |\n",
    "| множество | set | `set` |\n",
    "| словарь | dictionary | `dict` |\n",
    "\n",
    "\n",
    "| Неизменяемые типы данных | Изменяемые типы данных |\n",
    "| --- | --- |\n",
    "| кортеж | список |\n",
    "| строки | множество\n",
    "| числа целые и вещественные | словарь |\n",
    "| логические переменные\n",
    "\n",
    "\n",
    "| Тип данных | Тип структуры данных | Как обращаемся к элементу внутри? |\n",
    "| --- | --- | --- |\n",
    "| кортежи | упорядоченный | по индексу |\n",
    "| списки |  упорядоченный | по индексу |\n",
    "| строки  | упорядоченный | по индексу |\n",
    "| множество | неупорядоченный | не можем обратиться к элементу |\n",
    "| Словари | неупорядоченный | по ключу\n",
    "\n",
    "\n",
    "### Основные функции\n",
    "`input()`  \n",
    "cчитывает ввод (строку).\n",
    "\n",
    "`print(x, sep=',', end='\\n')`  \n",
    "вывести на экран. `x` - аргумент для печати. `sep` задает разделитель между аргументами (по умолчанию пробел), `end` - какой сивол ставим в конце выведенной строки (по умолчанию переход на новую строку). Аргументы задаются через запятую.\n",
    "\n",
    "`f'Hello, {name}!'`  \n",
    "cинтаксис форматированной строки (`f-string`), вместо name будет подставлено значение переменной name. Например, если `name = 'Olya'`, строка из примера будет выглядеть как `'Hello, Olya!'`\n",
    "\n",
    "`round(x, n)`\n",
    "округлить число x до n знаков после точки"
   ]
  },
  {
   "cell_type": "code",
   "execution_count": 89,
   "metadata": {},
   "outputs": [
    {
     "name": "stdout",
     "output_type": "stream",
     "text": [
      "2.53242;3.521515!\n",
      "n1 * n2 = 6.05\n"
     ]
    }
   ],
   "source": [
    "n1 = 2.53242\n",
    "n2 = 3.521515\n",
    "\n",
    "print(n1, n2, sep=';', end='!\\n')\n",
    "print(f'n1 * n2 = {round(n1 + n2, 2)}')"
   ]
  },
  {
   "cell_type": "markdown",
   "metadata": {},
   "source": [
    "`map(название функции, последовательность)`  \n",
    "применяет функцию ко всем элементам последовательности"
   ]
  },
  {
   "cell_type": "code",
   "execution_count": 19,
   "metadata": {},
   "outputs": [
    {
     "name": "stdout",
     "output_type": "stream",
     "text": [
      "['кот', 'пес', 'утконос']\n"
     ]
    }
   ],
   "source": [
    "# с помощью map приводим строки к нижнему регистру\n",
    "print(list(map(str.lower, ['кОт', 'пЕс', 'УткОнОс'])))"
   ]
  },
  {
   "cell_type": "code",
   "execution_count": 18,
   "metadata": {},
   "outputs": [
    {
     "name": "stdout",
     "output_type": "stream",
     "text": [
      "[1, 2, 3]\n"
     ]
    }
   ],
   "source": [
    "# с помощью map переводим считанный список строк в список целых чисел\n",
    "numbers = input().split()\n",
    "print(list(map(int, numbers)))"
   ]
  },
  {
   "cell_type": "markdown",
   "metadata": {},
   "source": [
    "### Функции для превращения в определенные типы данных\n",
    "\n",
    "`float()`  \n",
    "вещественное число\n",
    "\n",
    "`int()`  \n",
    "целое число\n",
    "\n",
    "`str()`   \n",
    "строка\n",
    "\n",
    "`list()`   \n",
    "список\n",
    "\n",
    "`set()`  \n",
    "множество\n",
    "\n",
    "`dict()`  \n",
    "словарь\n",
    "\n"
   ]
  },
  {
   "cell_type": "markdown",
   "metadata": {},
   "source": [
    "### Арифметические операции"
   ]
  },
  {
   "cell_type": "code",
   "execution_count": 3,
   "metadata": {},
   "outputs": [
    {
     "name": "stdout",
     "output_type": "stream",
     "text": [
      "13\n",
      "9\n",
      "22\n",
      "121\n",
      "5.5\n",
      "5\n",
      "1\n"
     ]
    }
   ],
   "source": [
    "print(11 + 2)   # Складывать\n",
    "print(11 - 2)   # Вычитать\n",
    "print(11 * 2)   # Умножать\n",
    "print(11 ** 2)  # Возводить в степень\n",
    "print(11 / 2)   # Делить. Результатом, как и на калькуляторе, будет дробное число\n",
    "print(11 // 2)  # Деление нацело даст целое число в качестве результата\n",
    "print(11 % 2)   # Остаток от деления нацело"
   ]
  },
  {
   "cell_type": "markdown",
   "metadata": {},
   "source": [
    "### Логические операции"
   ]
  },
  {
   "cell_type": "code",
   "execution_count": 9,
   "metadata": {},
   "outputs": [
    {
     "name": "stdout",
     "output_type": "stream",
     "text": [
      "True\n",
      "False\n",
      "False\n",
      "False\n",
      "True\n",
      "True\n",
      "True\n",
      "False\n"
     ]
    }
   ],
   "source": [
    "print(2 + 2 == 4) # равно\n",
    "print(2 + 2 != 4) # не равно\n",
    "print(2 + 2 < 4)  # меньше\n",
    "print(2 + 2 > 4)  # больше\n",
    "print(2 + 2 >= 4) # больше или равно\n",
    "print(2 + 2 <= 4) # меньше или равно\n",
    "print('o' in 'Hello') #  проверка на наличие в последовательности\n",
    "print('o' not in 'Hello') # проверка на отсутствие в последовательности"
   ]
  },
  {
   "cell_type": "code",
   "execution_count": 11,
   "metadata": {},
   "outputs": [
    {
     "name": "stdout",
     "output_type": "stream",
     "text": [
      "True\n",
      "False\n"
     ]
    },
    {
     "data": {
      "text/plain": [
       "False"
      ]
     },
     "execution_count": 11,
     "metadata": {},
     "output_type": "execute_result"
    }
   ],
   "source": [
    "age = 19\n",
    "print((age >= 18) and (age < 65)) # возраст 18 или старше И младше 65\n",
    "print((age < 18) or (age >= 65)) # возраст меньше 18 ИЛИ 65 и старше\n",
    "not(age == 19) # логическое отрицание"
   ]
  },
  {
   "cell_type": "markdown",
   "metadata": {},
   "source": [
    "`and`  \n",
    "возвращает `True`, если оба условия истинны, и `False` во всех других случаях\n",
    "\n",
    "`or`  \n",
    "возвращает `True`, когда одно или оба условия истинны, `False`, когда оба ложны."
   ]
  },
  {
   "cell_type": "markdown",
   "metadata": {},
   "source": [
    "### Условный оператор: пример"
   ]
  },
  {
   "cell_type": "code",
   "execution_count": 12,
   "metadata": {},
   "outputs": [
    {
     "name": "stdout",
     "output_type": "stream",
     "text": [
      "Мужской пол\n"
     ]
    }
   ],
   "source": [
    "sex = 'male'\n",
    "if sex == 'male':\n",
    "    print('Мужской пол')\n",
    "elif sex == 'female':\n",
    "    print('Женский пол')\n",
    "else:\n",
    "    print('Пол не указан')"
   ]
  },
  {
   "cell_type": "markdown",
   "metadata": {},
   "source": [
    "### Цикл while: пример"
   ]
  },
  {
   "cell_type": "code",
   "execution_count": 2,
   "metadata": {},
   "outputs": [
    {
     "name": "stdout",
     "output_type": "stream",
     "text": [
      "1\n",
      "2\n",
      "3\n",
      "4\n",
      "5\n"
     ]
    }
   ],
   "source": [
    "# напечатайте числа от 1 до x включительно\n",
    "x = int(input())\n",
    "n = 1\n",
    "while n <= x:\n",
    "    print(n)\n",
    "    n = n + 1"
   ]
  },
  {
   "cell_type": "code",
   "execution_count": 21,
   "metadata": {},
   "outputs": [
    {
     "name": "stdout",
     "output_type": "stream",
     "text": [
      "['кот', 'капибара', 'утконос']\n"
     ]
    }
   ],
   "source": [
    "# сохраняйте в список животных, пока пользователь не введет \"конец\"\n",
    "animals = []\n",
    "while True:\n",
    "    animal = input()\n",
    "    if animal == 'конец':\n",
    "        break\n",
    "    animals.append(animal)\n",
    "    \n",
    "print(animals)"
   ]
  },
  {
   "cell_type": "markdown",
   "metadata": {},
   "source": [
    "### Цикл for: примеры\n",
    "С помощью цикла for можно перебирать элементы строк, списков, кортежей, множеств и ключи словарей."
   ]
  },
  {
   "cell_type": "code",
   "execution_count": 10,
   "metadata": {},
   "outputs": [
    {
     "name": "stdout",
     "output_type": "stream",
     "text": [
      "Маша\n",
      "Миша\n",
      "Глаша\n"
     ]
    }
   ],
   "source": [
    "# перебор элементов списка\n",
    "students = ['Маша', 'Миша', 'Глаша']\n",
    "for st in students:\n",
    "    print(st)"
   ]
  },
  {
   "cell_type": "code",
   "execution_count": 11,
   "metadata": {},
   "outputs": [
    {
     "name": "stdout",
     "output_type": "stream",
     "text": [
      "Маша\n",
      "Миша\n",
      "Глаша\n"
     ]
    }
   ],
   "source": [
    "# перебор индексов с помощью диапазона чисел range()\n",
    "students = ['Маша', 'Миша', 'Глаша']\n",
    "for i in range(len(students)):\n",
    "    print(students[i])"
   ]
  },
  {
   "cell_type": "code",
   "execution_count": 14,
   "metadata": {},
   "outputs": [
    {
     "name": "stdout",
     "output_type": "stream",
     "text": [
      "1 x 1 = 1\n",
      "1 x 2 = 2\n",
      "1 x 3 = 3\n",
      "---------\n",
      "2 x 1 = 2\n",
      "2 x 2 = 4\n",
      "2 x 3 = 6\n",
      "---------\n",
      "3 x 1 = 3\n",
      "3 x 2 = 6\n",
      "3 x 3 = 9\n",
      "---------\n"
     ]
    }
   ],
   "source": [
    "# вложенный цикл - печатаем таблицу умножения для 1, 2, 3\n",
    "for i in range(1,4):\n",
    "    for j in range(1,4):\n",
    "        print(f'{i} x {j} = {i * j}')\n",
    "    print('-'*9)"
   ]
  },
  {
   "cell_type": "code",
   "execution_count": 33,
   "metadata": {},
   "outputs": [
    {
     "name": "stdout",
     "output_type": "stream",
     "text": [
      "Masha\n",
      "5\n",
      "---------\n",
      "Petya\n",
      "4\n",
      "---------\n"
     ]
    }
   ],
   "source": [
    "# вложенный цикл - перебераем список списков\n",
    "students = [['Masha', 5], ['Petya', 4]]\n",
    "\n",
    "for st in students:\n",
    "    for item in st:\n",
    "        print(item)\n",
    "    print('-'*9)"
   ]
  },
  {
   "cell_type": "markdown",
   "metadata": {},
   "source": [
    "### Операции c последовательностями (строки, кортежи, списки)\n",
    "\n",
    "Операции в ячейке ниже работают не только со строками, но и со списками и кортежами."
   ]
  },
  {
   "cell_type": "code",
   "execution_count": 83,
   "metadata": {},
   "outputs": [
    {
     "name": "stdout",
     "output_type": "stream",
     "text": [
      "Hello Oleg\n",
      "HelloHello\n",
      "e\n",
      "o\n",
      "5\n"
     ]
    }
   ],
   "source": [
    "print('Hello' + ' Oleg') # склейка\n",
    "print('Hello' * 2)       # повторение\n",
    "print('Hello'[1])        # обращение к элементу по индексу, вернет второй символ\n",
    "print('Hello'[-1])       # обращение к элементу по индексу, вернет последний символ\n",
    "print(len('Hello'))      # возвращает количество элементов в строке"
   ]
  },
  {
   "cell_type": "markdown",
   "metadata": {},
   "source": [
    "Если обратиться по индексу элемента, которого нет в последовательности -- будет ошибка."
   ]
  },
  {
   "cell_type": "markdown",
   "metadata": {},
   "source": [
    "### Срезы \n",
    "Cрезы позволяют обратиться сразу к нескольким символам внутри строки или элементам последовательности:\n",
    "    1. `'Hello'[2:4]` позволяет обратиться к символам слова Hello с индексами 2 и 3: `ll`;\n",
    "    2. `'Hello'[:3]` позволяет обратиться ко всем символам от символа с индексом 0 до символа с индексом 2: `Hel`;\n",
    "    3. `'Hello'[2:]` позволяет обратиться ко всем символам от символа с индексом 2 до конца строки: `llo`;\n",
    "    4. `'Hello'[:]` позволяет обратиться ко всем символам строки: `Hello`;\n",
    "    5. `'Hello'[-4:-1]` позволяет обратиться к символам с 4 до 1 (при нумерации с конца строки): `ell`\n",
    "    6. `'Hello'[::2]` достает каждую букву слова с шагом в два символа `Hlo`"
   ]
  },
  {
   "cell_type": "code",
   "execution_count": 28,
   "metadata": {},
   "outputs": [
    {
     "name": "stdout",
     "output_type": "stream",
     "text": [
      "Срез строки \"Hello\"[2:4]: ll\n",
      "Срез строки \"Hello\"[:3]: Hel\n",
      "Срез строки \"Hello\"[2:]: llo\n",
      "Срез строки \"Hello\"[:]: Hello\n",
      "Срез строки \"Hello\"[-4:-1]: ell\n",
      "Срез строки \"Hello\"[::2]: Hlo\n"
     ]
    }
   ],
   "source": [
    "print(f'Срез строки \"Hello\"[2:4]: {\"Hello\"[2:4]}')\n",
    "print(f'Срез строки \"Hello\"[:3]: {\"Hello\"[:3]}')\n",
    "print(f'Срез строки \"Hello\"[2:]: {\"Hello\"[2:]}')\n",
    "print(f'Срез строки \"Hello\"[:]: {\"Hello\"[:]}')\n",
    "print(f'Срез строки \"Hello\"[-4:-1]: {\"Hello\"[-4:-1]}')\n",
    "print(f'Срез строки \"Hello\"[::2]: {\"Hello\"[::2]}')"
   ]
  },
  {
   "cell_type": "markdown",
   "metadata": {},
   "source": [
    "### Списки"
   ]
  },
  {
   "cell_type": "code",
   "execution_count": 9,
   "metadata": {},
   "outputs": [
    {
     "name": "stdout",
     "output_type": "stream",
     "text": [
      "['Даша', 'Миша', 'Глаша']\n",
      "Даша Миша Глаша\n"
     ]
    }
   ],
   "source": [
    "students = ['Маша', 'Миша', 'Глаша']\n",
    "students[0] = 'Даша' # замена элемента списка\n",
    "print(students)\n",
    "print(*students) # 'распаковка' списка -- печать элементов по отдельности"
   ]
  },
  {
   "cell_type": "markdown",
   "metadata": {},
   "source": [
    "* `.append()` добавляет в существующий список новый элемент;\n",
    "* `.remove()` удаляет из существующего списка указанный элемент;\n",
    "* `.count()` подсчитывает, сколько раз указанный элемент входит в список;\n",
    "* `.index()` находит индекс первого элемента, совпадающего с указанным.\n",
    "\n",
    "Методы `.append()` и `.remove()` изменяют исходный список.\n",
    "\n",
    "Методы `.count()` и `.index()` можно применять и к кортежам."
   ]
  },
  {
   "cell_type": "code",
   "execution_count": 20,
   "metadata": {},
   "outputs": [
    {
     "name": "stdout",
     "output_type": "stream",
     "text": [
      "Исходный список: ['молоко', 'хлеб', 'сметана', 'молоко']\n",
      "Список с кефиром: ['молоко', 'хлеб', 'сметана', 'молоко', 'кефир']\n",
      "Список без сметаны: ['молоко', 'хлеб', 'молоко', 'кефир']\n",
      "Молоко встречается 2 раза.\n",
      "Первый раз молоко встречается под индексом 0.\n",
      "Первый раз кефир встречается под индексом 3.\n",
      "\n",
      "Молоко встречается 2 раза.\n",
      "Первый раз молоко встречается под индексом 0.\n",
      "Первый раз кефир встречается под индексом 4.\n"
     ]
    }
   ],
   "source": [
    "shopping_list = ['молоко', 'хлеб', 'сметана', 'молоко']\n",
    "print(f'Исходный список: {shopping_list}')  # Выведем исходный список\n",
    "\n",
    "shopping_list.append('кефир')               # Добавим в исходный список кефир\n",
    "print(f'Список с кефиром: {shopping_list}')  # Выведем список с кефиром\n",
    "\n",
    "shopping_list.remove('сметана')                 # Удалим из списка сметану\n",
    "print(f'Список без сметаны: {shopping_list}')   # Выведем список без сметаны\n",
    "\n",
    "print(f'Молоко встречается {shopping_list.count(\"молоко\")} раза.')\n",
    "print(f'Первый раз молоко встречается под индексом {shopping_list.index(\"молоко\")}.')\n",
    "print(f'Первый раз кефир встречается под индексом {shopping_list.index(\"кефир\")}.')\n",
    "\n",
    "print()\n",
    "shopping_tuple = ('молоко', 'хлеб', 'сметана', 'молоко', 'кефир')\n",
    "print(f'Молоко встречается {shopping_tuple.count(\"молоко\")} раза.')\n",
    "print(f'Первый раз молоко встречается под индексом {shopping_tuple.index(\"молоко\")}.')\n",
    "print(f'Первый раз кефир встречается под индексом {shopping_tuple.index(\"кефир\")}.')"
   ]
  },
  {
   "cell_type": "markdown",
   "metadata": {},
   "source": [
    "### Методы строк\n",
    "\n",
    "* `.split()` разбивает строку по пробельным символам (в качестве аргумента можно задать свой разделитель)\n",
    "* `.join()` создаёт из списка строк новую строку. Строка, к которой был применён метод, станет разделителем между элементами."
   ]
  },
  {
   "cell_type": "code",
   "execution_count": 24,
   "metadata": {},
   "outputs": [
    {
     "name": "stdout",
     "output_type": "stream",
     "text": [
      "['Olya', 'Anya', 'Petya']\n",
      "Olya;Anya;Petya\n"
     ]
    }
   ],
   "source": [
    "names = 'Olya, Anya, Petya'.split(', ') # разбиваем строку с именами по ', '\n",
    "print(names)\n",
    "print(';'.join(names)) # объединяем список строк в строку через ';'"
   ]
  },
  {
   "cell_type": "markdown",
   "metadata": {},
   "source": [
    "* `.isdigit()` позволяет проверить, что строка состоит только из цифр;\n",
    "* `.islower()` позволяет проверить, что строка состоит только из букв нижнего регистра (строчных);\n",
    "* `.isalpha()` позволяет проверить, что строка состоит только из букв;\n",
    "* `.isalnum()` позволяет проверить, что строка состоит только из букв и цифр;\n",
    "* `.replace()` позволяет создать новую строчку, заменив что-то в изначальной;\n",
    "* `.count()` позволяет понять, сколько раз последовательность символов встречалась в строке;"
   ]
  },
  {
   "cell_type": "code",
   "execution_count": 15,
   "metadata": {},
   "outputs": [
    {
     "name": "stdout",
     "output_type": "stream",
     "text": [
      "Проверим их работу на примере строки \" 4242HelloHello42!   \"\"\n",
      "Состоит ли строка только из цифр: False\n",
      "Состоит ли строка только из строчных букв: False\n",
      "Состоит ли строка только из букв: False\n",
      "Состоит ли строка только из букв или цифр: False\n",
      "Удалим боковые пробелы: \"4242HelloHello42!\"\n",
      "Заменим число 42 на слово \"Ответ\": \" ОтветОтветHelloHelloОтвет!   \"\n",
      "Найдём первый и последний индекс для цифр \"42\" : 1, 15\n",
      "Сколько раз последовательность цифр \"42\" встречаются в строке: 3\n"
     ]
    }
   ],
   "source": [
    "s = ' 4242HelloHello42!   '\n",
    "print(f'Проверим их работу на примере строки \"{s}\"\"')\n",
    "print(f'Состоит ли строка только из цифр: {s.isdigit()}')\n",
    "print(f'Состоит ли строка только из строчных букв: {s.islower()}')\n",
    "print(f'Состоит ли строка только из букв: {s.isalpha()}')\n",
    "print(f'Состоит ли строка только из букв или цифр: {s.isalnum()}')\n",
    "print(f'Удалим боковые пробелы: \"{s.strip()}\"')\n",
    "print(f'Заменим число 42 на слово \"Ответ\": \"{s.replace(\"42\",\"Ответ\")}\"')\n",
    "print(f'Найдём первый и последний индекс для цифр \"42\" : {s.find(\"42\")}, {s.rfind(\"42\")}')\n",
    "print(f'Сколько раз последовательность цифр \"42\" встречаются в строке: {s.count(\"42\")}')"
   ]
  },
  {
   "cell_type": "markdown",
   "metadata": {},
   "source": [
    "* `.find()` и `.rfind()` позволяют найти индекс самой первой и самой последней найденной последовательности символов в строке. \n",
    "* `.lower()` создаёт новую строчку, где все буквы будут маленькими;\n",
    "* `.upper()` создаёт новую строчку, где все буквы будут большими;\n",
    "* `.strip()` создаёт новую строчку, где по бокам исходной строки удалены лишние символы. Без указания аргумента удаляет пробелы, но можно указать строку из символов, которые нужно считать лишними: `.strip('.')` будет считать лишним символом только точки;\n",
    "* `.lstrip()` и `.rstrip()` работают так же, как и `.strip()`, но удаляют символы только слева или только справа."
   ]
  },
  {
   "cell_type": "code",
   "execution_count": 21,
   "metadata": {},
   "outputs": [
    {
     "name": "stdout",
     "output_type": "stream",
     "text": [
      "Исходная строка: \" .Test. \"\n",
      "Строка, в которой нет боковых пробелов: \".Test.\"\n",
      "Строка, в которой нет боковых пробелов справа: \" .Test.\"\n",
      "Строка, в которой нет боковых пробелов слева: \".Test. \"\n",
      "Строка, в которой нет боковых пробелов и точек: \"Test\"\n",
      "Строка, в которой все буквы большие: \" .TEST. \"\n",
      "Строка, в которой все буквы маленькие: \" .test. \"\n",
      "Все буквы маленькие и нет лишних пробелов: \".test.\"\n",
      "Исходная строка не изменилась: \" .Test. \"\n"
     ]
    }
   ],
   "source": [
    "s = ' .Test. '\n",
    "print(f'Исходная строка: \"{s}\"')\n",
    "print(f'Строка, в которой нет боковых пробелов: \"{s.strip()}\"')\n",
    "print(f'Строка, в которой нет боковых пробелов справа: \"{s.rstrip()}\"')\n",
    "print(f'Строка, в которой нет боковых пробелов слева: \"{s.lstrip()}\"')\n",
    "print(f'Строка, в которой нет боковых пробелов и точек: \"{s.strip(\" .\")}\"')\n",
    "print(f'Строка, в которой все буквы большие: \"{s.upper()}\"')\n",
    "print(f'Строка, в которой все буквы маленькие: \"{s.lower()}\"')\n",
    "print(f'Все буквы маленькие и нет лишних пробелов: \"{s.lower().strip()}\"')\n",
    "print(f'Исходная строка не изменилась: \"{s}\"')"
   ]
  },
  {
   "cell_type": "markdown",
   "metadata": {},
   "source": [
    "* `.startswith()` проверяет, начинается ли строка с нужной нам последовательностью символов (или одной из нужных нам последовательностей символов);\n",
    "* `.endswith()`, аналогично, проверяет, кончается ли строка нужной нам последовательностью символов (или одной из нужных нам последовательностей символов);"
   ]
  },
  {
   "cell_type": "code",
   "execution_count": 25,
   "metadata": {},
   "outputs": [
    {
     "name": "stdout",
     "output_type": "stream",
     "text": [
      "Оканчивается ли \"hse.ru\" на \".ru\"? True\n",
      "Оканчивается ли \"hse.ru\" на \".ru\" или \".рф\"? True\n",
      "Начинается  ли строка \"https://cbr.ru\" с \"https\"? True\n"
     ]
    }
   ],
   "source": [
    "print(f'Оканчивается ли \"hse.ru\" на \".ru\"? {\"hse.ru\".endswith(\"ru\")}')\n",
    "print(f'Оканчивается ли \"hse.ru\" на \".ru\" или \".рф\"? {\"hse.ru\".endswith((\"ru\", \".рф\"))}')\n",
    "print(f'Начинается  ли строка \"https://cbr.ru\" с \"https\"? {\"https://cbr.ru\".startswith(\"https\")}')"
   ]
  },
  {
   "cell_type": "markdown",
   "metadata": {},
   "source": [
    "### Множества"
   ]
  },
  {
   "cell_type": "code",
   "execution_count": 29,
   "metadata": {},
   "outputs": [
    {
     "name": "stdout",
     "output_type": "stream",
     "text": [
      "{'ужик', 'собака', 'питон'}\n"
     ]
    }
   ],
   "source": [
    "pets = {'кошка', 'ужик', 'питон'}\n",
    "pets.add('собака') # добавим элемент в множество\n",
    "pets.remove('кошка') # удаляем элемент из множества\n",
    "print(pets)"
   ]
  },
  {
   "cell_type": "markdown",
   "metadata": {},
   "source": [
    "### Операции над множествами"
   ]
  },
  {
   "cell_type": "code",
   "execution_count": 29,
   "metadata": {},
   "outputs": [
    {
     "name": "stdout",
     "output_type": "stream",
     "text": [
      "{'кошка', 'питон', 'собака', 'хамелеон', 'рыбка', 'шиншилла', 'ужик'}\n",
      "{'кошка', 'ужик'}\n",
      "{'шиншилла', 'рыбка'}\n",
      "{'питон', 'собака', 'хамелеон'}\n",
      "{'питон', 'шиншилла', 'рыбка', 'собака', 'хамелеон'}\n"
     ]
    }
   ],
   "source": [
    "my_pets_list = {'кошка', 'рыбка', 'шиншилла', 'ужик'}\n",
    "friend_pets_list = {'собака', 'питон', 'ужик', 'кошка', 'хамелеон'}\n",
    "\n",
    "# объединение -- элементы, которые входят хотя бы в одно множество\n",
    "print(my_pets_list | friend_pets_list) \n",
    "\n",
    "# пересечение -- элементы, которые входят в оба множества\n",
    "print(my_pets_list & friend_pets_list) \n",
    "\n",
    "# разность: входят в my_pets_list, но не входят в  friend_pets_list\n",
    "print(my_pets_list - friend_pets_list) \n",
    "\n",
    "# разность: входят в friend_pets_list, но не входят в my_pets_list\n",
    "print(friend_pets_list - my_pets_list) \n",
    "\n",
    "# симметрическая разность: входят в одно из множества, но не в оба сразу\n",
    "print(my_pets_list ^ friend_pets_list) "
   ]
  },
  {
   "cell_type": "markdown",
   "metadata": {},
   "source": [
    "### Словари"
   ]
  },
  {
   "cell_type": "code",
   "execution_count": 30,
   "metadata": {},
   "outputs": [
    {
     "name": "stdout",
     "output_type": "stream",
     "text": [
      "яблоко\n",
      "{'apple': 'яблоко', 'hello': 'здравствуйте', 'world': 'мир'}\n",
      "{'apple': 'яблоко', 'hello': 'здравствуйте'}\n",
      "{'apple': 'яблоко', 'hello': 'здравствуйте', 'python': 'питон'}\n"
     ]
    }
   ],
   "source": [
    "eng_rus = {'apple': 'яблоко', 'hello': 'привет', 'world': 'мир'}\n",
    "\n",
    "print(eng_rus['apple']) # обращаемся к значению \"яблоко\" по его ключу - apple\n",
    "eng_rus['hello'] = 'здравствуйте' # перезаписываем значение ключа\n",
    "print(eng_rus) # печатаем измененный словарь\n",
    "del eng_rus['world'] # удаляем пару ключ:значение\n",
    "print(eng_rus) # печатаем измененный словарь\n",
    "eng_rus['python'] = 'питон' # создаем новую пару ключ-значение\n",
    "print(eng_rus) # печатаем измененный словарь"
   ]
  },
  {
   "cell_type": "code",
   "execution_count": 92,
   "metadata": {},
   "outputs": [
    {
     "name": "stdout",
     "output_type": "stream",
     "text": [
      "True\n",
      "False\n",
      "dict_values(['яблоко', 'привет', 'мир'])\n",
      "dict_values(['яблоко', 'привет', 'мир'])\n",
      "dict_items([('apple', 'яблоко'), ('hello', 'привет'), ('world', 'мир')])\n"
     ]
    }
   ],
   "source": [
    "eng_rus = {'apple': 'яблоко', 'hello': 'привет', 'world': 'мир'}\n",
    "\n",
    "print('apple' in eng_rus) # проверяем наличие ключа в словаре\n",
    "print('apple' not in eng_rus) # проверяем отсутствие ключа в словаре\n",
    "print(eng_rus.values()) # все значения словаря\n",
    "print(eng_rus.values()) # все ключи словаря\n",
    "print(eng_rus.items()) # пары ключ-значение в форме списка кортежей"
   ]
  },
  {
   "cell_type": "code",
   "execution_count": 5,
   "metadata": {},
   "outputs": [
    {
     "name": "stdout",
     "output_type": "stream",
     "text": [
      "apple\n",
      "hello\n",
      "world\n"
     ]
    }
   ],
   "source": [
    "# перебираем все ключи словаря\n",
    "eng_rus = {'apple': 'яблоко', 'hello': 'привет', 'world': 'мир'}\n",
    "\n",
    "for key in eng_rus:\n",
    "    print(key)"
   ]
  },
  {
   "cell_type": "code",
   "execution_count": 6,
   "metadata": {},
   "outputs": [
    {
     "name": "stdout",
     "output_type": "stream",
     "text": [
      "яблоко\n",
      "привет\n",
      "мир\n",
      "яблоко\n",
      "привет\n",
      "мир\n"
     ]
    }
   ],
   "source": [
    "# перебираем все значения словаря\n",
    "eng_rus = {'apple': 'яблоко', 'hello': 'привет', 'world': 'мир'}\n",
    "\n",
    "for key in eng_rus:\n",
    "    print(eng_rus[key])\n",
    "\n",
    "# перебираем все значения словаря: второй способ\n",
    "for value in eng_rus.values():\n",
    "    print(value)"
   ]
  },
  {
   "cell_type": "code",
   "execution_count": 8,
   "metadata": {},
   "outputs": [
    {
     "name": "stdout",
     "output_type": "stream",
     "text": [
      "apple яблоко\n",
      "hello привет\n",
      "world мир\n"
     ]
    }
   ],
   "source": [
    "# печатаем ключ и соответствующее ему значение\n",
    "eng_rus = {'apple': 'яблоко', 'hello': 'привет', 'world': 'мир'}\n",
    "\n",
    "for key in eng_rus:\n",
    "    print(key, eng_rus[key])"
   ]
  },
  {
   "cell_type": "code",
   "execution_count": null,
   "metadata": {},
   "outputs": [],
   "source": [
    "eng_rus = {'apple': 'яблоко', 'hello': 'привет', 'world': 'мир'}\n",
    "eng_rus.items()"
   ]
  },
  {
   "cell_type": "markdown",
   "metadata": {},
   "source": [
    "#### Словарь списков"
   ]
  },
  {
   "cell_type": "code",
   "execution_count": 36,
   "metadata": {},
   "outputs": [
    {
     "name": "stdout",
     "output_type": "stream",
     "text": [
      "Температура по дням (дневная, ночная): {'1 января': [-5, -12], '2 января': [-4, -8]}\n",
      "Температура 1 января (дневная, ночная): [-5, -12]\n",
      "Температура 1 января (дневная): -5\n",
      "Температура 1 января (средняя): -8.5\n"
     ]
    }
   ],
   "source": [
    "temperature = {\n",
    "    '1 января': [-5, -12],\n",
    "    '2 января': [-4, -8]\n",
    "}\n",
    "# Выведем весь словарь температур -- для двух дней:\n",
    "print(f'Температура по дням (дневная, ночная): {temperature}')\n",
    "\n",
    "# Выведем список температур -- для 1 января:\n",
    "print(f'Температура 1 января (дневная, ночная): {temperature[\"1 января\"]}')\n",
    "\n",
    "# Выведем дневную температуру 1 января:\n",
    "print(f'Температура 1 января (дневная): {temperature[\"1 января\"][0]}')\n",
    "\n",
    "# Выведем среднюю температуру за 1 января:\n",
    "print(f'Температура 1 января (средняя): {sum(temperature[\"1 января\"]) / len(temperature[\"1 января\"])}')"
   ]
  },
  {
   "cell_type": "markdown",
   "metadata": {},
   "source": [
    "### Подсчет статистики с помощью словаря"
   ]
  },
  {
   "cell_type": "code",
   "execution_count": 91,
   "metadata": {},
   "outputs": [
    {
     "name": "stdout",
     "output_type": "stream",
     "text": [
      "{'t': 13, 'w': 2, 'o': 10, 'a': 6, 'd': 7, 's': 2, 'e': 8, 'r': 7, 'i': 3, 'b': 3, 'l': 2, 'y': 1, 'n': 4, 'g': 1, 'h': 2, 'u': 2, 'm': 2}\n"
     ]
    }
   ],
   "source": [
    "# посчитаем. сколько раз каждая буква встречается в тексте\n",
    "twister = 'two toads terribly tired trotted along the road said toad number one to the toad number two'\n",
    "\n",
    "letters = ''.join(twister.split()) # избавляемся от пробелов\n",
    "\n",
    "stats = {} # создаем пустой словарь для подсчета\n",
    "for l in letters:\n",
    "    if l not in stats:\n",
    "        stats[l] = 1\n",
    "    else:\n",
    "        stats[l] += 1\n",
    "        \n",
    "print(stats) "
   ]
  },
  {
   "cell_type": "markdown",
   "metadata": {},
   "source": [
    "## Сумма, минимум, максимум, сортировка\n",
    "\n",
    "`sum()`  \n",
    "суммирует элементы списка\n",
    "\n",
    "`max()`  \n",
    "находит максимум списка, кортежа, множества\n",
    "\n",
    "`min()`  \n",
    "находит минимум списка, кортежа, множества"
   ]
  },
  {
   "cell_type": "code",
   "execution_count": 16,
   "metadata": {},
   "outputs": [
    {
     "name": "stdout",
     "output_type": "stream",
     "text": [
      "Минимум списка [5, 7, 30]: 5\n",
      "Максимум списка [5, 7, 30]: 30\n",
      "Сумма списка [5, 7, 30]: 42\n",
      "Минимум кортежа (5, 7, 30): 5\n",
      "Максимум кортежа (5, 7, 30): 30\n",
      "Сумма кортежа (5, 7, 30): 42\n",
      "Минимальная цифра в строке 112358: 1, максимальная: 8\n"
     ]
    }
   ],
   "source": [
    "numbers = [5,7,30]\n",
    "print(f'Минимум списка {numbers}: {min(numbers)}')\n",
    "print(f'Максимум списка {numbers}: {max(numbers)}')\n",
    "print(f'Сумма списка {numbers}: {sum(numbers)}')\n",
    "\n",
    "numbers = (5,7,30)\n",
    "print(f'Минимум кортежа {numbers}: {min(numbers)}')\n",
    "print(f'Максимум кортежа {numbers}: {max(numbers)}')\n",
    "print(f'Сумма кортежа {numbers}: {sum(numbers)}')\n",
    "\n",
    "s = '112358'\n",
    "print(f'Минимальная цифра в строке {s}: {min(s)}, максимальная: {max(s)}')"
   ]
  },
  {
   "cell_type": "code",
   "execution_count": 37,
   "metadata": {},
   "outputs": [
    {
     "name": "stdout",
     "output_type": "stream",
     "text": [
      "[4, 8, 8.4, 9.4]\n",
      "[9.4, 8.4, 8, 4]\n"
     ]
    }
   ],
   "source": [
    "marks = [8.4, 4, 8, 9.4]\n",
    "print(sorted(marks))  # отсортировали список оценок по возрастанию\n",
    "print(sorted(marks, reverse=True))  # а теперь по убыванию"
   ]
  },
  {
   "cell_type": "code",
   "execution_count": 39,
   "metadata": {},
   "outputs": [
    {
     "name": "stdout",
     "output_type": "stream",
     "text": [
      "['Orange', 'apple', 'Апельсин', 'Яблоко', 'манго']\n",
      "['apple', 'Orange', 'Апельсин', 'манго', 'Яблоко']\n"
     ]
    }
   ],
   "source": [
    "fruits = ['apple', 'Яблоко', 'Апельсин', 'Orange', 'манго']\n",
    "print(sorted(fruits)) # сортировка строк без ключа (регистр не игнорируется)\n",
    "print(sorted(fruits, key=str.lower)) # сортировка строк с ключом (регистр игнорируется)"
   ]
  },
  {
   "cell_type": "code",
   "execution_count": 45,
   "metadata": {},
   "outputs": [
    {
     "name": "stdout",
     "output_type": "stream",
     "text": [
      "Студент Antonova Anna получил оценку 10\n",
      "Студент Bobylev Sergey получил оценку 5\n",
      "Студент Ivanov Alexey получил оценку 8\n",
      "Студент Yanova Lena получил оценку 5\n"
     ]
    }
   ],
   "source": [
    "# вывод словаря с сортировкой по ключам\n",
    "marks_students = {'Antonova Anna':10, 'Ivanov Alexey':8, 'Bobylev Sergey':5, 'Yanova Lena':5}\n",
    "\n",
    "for key in sorted(marks_students):\n",
    "  print(f'Студент {key} получил оценку {marks_students[key]}')"
   ]
  },
  {
   "cell_type": "code",
   "execution_count": 48,
   "metadata": {},
   "outputs": [
    {
     "name": "stdout",
     "output_type": "stream",
     "text": [
      "Оценку 5 получит студент Bobylev Sergey\n",
      "Оценку 5 получит студент Yanova Lena\n",
      "Оценку 8 получит студент Ivanov Alexey\n",
      "Оценку 10 получит студент Antonova Anna\n"
     ]
    }
   ],
   "source": [
    "# вывод словаря с сортировкой по значениям\n",
    "marks_students = {'Antonova Anna':10, 'Ivanov Alexey':8, 'Bobylev Sergey':5, 'Yanova Lena':5}\n",
    "\n",
    "for value in sorted(set(marks_students.values())):\n",
    "    for key in marks_students:\n",
    "        if marks_students[key] == value:\n",
    "            print(f'Оценку {value} получит студент {key}')"
   ]
  },
  {
   "cell_type": "code",
   "execution_count": 51,
   "metadata": {},
   "outputs": [
    {
     "name": "stdout",
     "output_type": "stream",
     "text": [
      "Студент, чья фамилия идет позже остальных: Yanova Lena\n"
     ]
    }
   ],
   "source": [
    "# минимум / максимум среди ключей словаря\n",
    "marks_students = {'Antonova Anna':10, 'Ivanov Alexey':8, 'Bobylev Sergey':5, 'Yanova Lena':5}\n",
    "\n",
    "max_key = max(marks_students)\n",
    "print(f'Студент, чья фамилия идет позже остальных: {max_key}')"
   ]
  },
  {
   "cell_type": "code",
   "execution_count": 56,
   "metadata": {},
   "outputs": [
    {
     "name": "stdout",
     "output_type": "stream",
     "text": [
      "Минимальную оценку 5 получит студент Bobylev Sergey\n",
      "Минимальную оценку 5 получит студент Yanova Lena\n"
     ]
    }
   ],
   "source": [
    "# минимум / максимум среди значений словаря\n",
    "\n",
    "min_value = min(marks_students.values())\n",
    "\n",
    "for key in marks_students:\n",
    "    if marks_students[key] == min_value:\n",
    "        print(f'Минимальную оценку {min_value} получит студент {key}')"
   ]
  },
  {
   "cell_type": "markdown",
   "metadata": {},
   "source": [
    "### Функции"
   ]
  },
  {
   "cell_type": "code",
   "execution_count": 57,
   "metadata": {},
   "outputs": [
    {
     "name": "stdout",
     "output_type": "stream",
     "text": [
      "15\n"
     ]
    }
   ],
   "source": [
    "# Определим функцию, которая считает возраст по году рождения\n",
    "def get_age(year):\n",
    "    print(2020 - year)\n",
    "\n",
    "birth_year = 2005\n",
    "get_age(birth_year)"
   ]
  },
  {
   "cell_type": "code",
   "execution_count": 58,
   "metadata": {},
   "outputs": [
    {
     "name": "stdout",
     "output_type": "stream",
     "text": [
      "24\n"
     ]
    }
   ],
   "source": [
    "# Определим функцию, считающую, \n",
    "# сколько было лет в какой-то год\n",
    "def check_age(birth_year, year):\n",
    "    print(year - birth_year)\n",
    "    \n",
    "check_age(1996, 2020)"
   ]
  },
  {
   "cell_type": "code",
   "execution_count": 60,
   "metadata": {},
   "outputs": [
    {
     "name": "stdout",
     "output_type": "stream",
     "text": [
      "Ошибка\n",
      "4\n"
     ]
    }
   ],
   "source": [
    "# определим функцию с двумя возвращаемыми значениями по условию\n",
    "# функция проверяет, родился ли человек в тот год, для которого проверяем возраст\n",
    "def check_age(birth_year, year):\n",
    "    if year < birth_year:\n",
    "        return 'Ошибка'\n",
    "    else:\n",
    "        return year - birth_year\n",
    "\n",
    "print(check_age(1996, 1980))\n",
    "print(check_age(1996, 2000))"
   ]
  },
  {
   "cell_type": "code",
   "execution_count": 62,
   "metadata": {},
   "outputs": [
    {
     "data": {
      "text/plain": [
       "(33, 16)"
      ]
     },
     "execution_count": 62,
     "metadata": {},
     "output_type": "execute_result"
    }
   ],
   "source": [
    "# вызов функции внутри функции\n",
    "\n",
    "# переводим год рождения в возраст\n",
    "def get_age(age):\n",
    "    return 2020 - age\n",
    "\n",
    "# находим минимальный и максимальный возраст в списке\n",
    "def get_min_max_age(list_of_ages):\n",
    "    return get_age(min(list_of_ages)), get_age(max(list_of_ages))\n",
    "\n",
    "get_min_max_age([1987, 1990, 2000, 2004, 1999])"
   ]
  },
  {
   "cell_type": "code",
   "execution_count": 64,
   "metadata": {},
   "outputs": [
    {
     "name": "stdout",
     "output_type": "stream",
     "text": [
      "6\n",
      "а\n"
     ]
    }
   ],
   "source": [
    "# возвращаем несколько значений\n",
    "\n",
    "# возвращаем длину слова и последнюю букву для игры в слова\n",
    "def check_name(word):\n",
    "    return len(word), word[-1]\n",
    "\n",
    "petya_score, last_letter = check_name('Москва')\n",
    "print(petya_score)\n",
    "print(last_letter)"
   ]
  },
  {
   "cell_type": "markdown",
   "metadata": {},
   "source": [
    "### Анонимные функции"
   ]
  },
  {
   "cell_type": "code",
   "execution_count": 2,
   "metadata": {},
   "outputs": [
    {
     "name": "stdout",
     "output_type": "stream",
     "text": [
      "[4, 9, 16]\n",
      "[4, 9, 16]\n"
     ]
    }
   ],
   "source": [
    "def squared(a):\n",
    "    return a ** 2\n",
    "\n",
    "print(list(map(squared, [2, 3, 4])))\n",
    "# анонимная функция аналогична squared\n",
    "print(list(map(lambda a: a ** 2, [2, 3, 4]))) "
   ]
  },
  {
   "cell_type": "markdown",
   "metadata": {},
   "source": [
    "Сортировка словаря по значению с анонимной функцией."
   ]
  },
  {
   "cell_type": "code",
   "execution_count": 6,
   "metadata": {},
   "outputs": [
    {
     "name": "stdout",
     "output_type": "stream",
     "text": [
      "[('barsik', 76), ('cat', 124), ('meow', 50)]\n",
      "[('meow', 50), ('barsik', 76), ('cat', 124)]\n"
     ]
    }
   ],
   "source": [
    "d = {'cat':124, 'barsik':76, 'meow':50}\n",
    "# сортировка по ключу -- первому элементу кортежа\n",
    "print(sorted(d.items())) \n",
    "# сортировка по значению -- второму элементу кортежа\n",
    "print(sorted(d.items(), key=lambda x:x[1]))"
   ]
  },
  {
   "cell_type": "markdown",
   "metadata": {
    "id": "XiPmcqr3MVYx"
   },
   "source": [
    "### Передача строк, кортежей, чисел\n",
    "Рассмотрим, как передаются в функции строки, кортежи, целые и дробные числа."
   ]
  },
  {
   "cell_type": "code",
   "execution_count": 1,
   "metadata": {
    "id": "sHvOAkCzMplI"
   },
   "outputs": [],
   "source": [
    "# определяем функцию, которая будет обновлять строку \n",
    "# входные параметры: строка\n",
    "# возвращаемые значения: строка, к которой приписано' + добавка' \n",
    "def update_string(s):\n",
    "    s += ' + добавка'\n",
    "    return s"
   ]
  },
  {
   "cell_type": "code",
   "execution_count": 3,
   "metadata": {
    "colab": {
     "base_uri": "https://localhost:8080/",
     "height": 50
    },
    "executionInfo": {
     "elapsed": 1782,
     "status": "ok",
     "timestamp": 1599593961297,
     "user": {
      "displayName": "Анна Шишкова",
      "photoUrl": "https://lh3.googleusercontent.com/a-/AOh14GglV7trPMOxrljX4T6wMrrbCXnSq4k4bMlUL6q9xQ=s64",
      "userId": "05776018689746249823"
     },
     "user_tz": -180
    },
    "id": "hd2333-ANCaL",
    "outputId": "817dbcea-f8bf-4a6f-b960-62f5ec1b32c7"
   },
   "outputs": [
    {
     "name": "stdout",
     "output_type": "stream",
     "text": [
      "str2: исходный текст + добавка\n",
      "str1: исходный текст\n"
     ]
    }
   ],
   "source": [
    "str1 = 'исходный текст'      \n",
    "str2 = update_string(str1) \n",
    "print('str2:', str2)       \n",
    "print('str1:', str1) # исходная строка не изменилась"
   ]
  },
  {
   "cell_type": "code",
   "execution_count": 5,
   "metadata": {
    "id": "oBLQR-FiNSOc"
   },
   "outputs": [],
   "source": [
    "# определяем функцию, которая будет обновлять кортеж \n",
    "# входные параметры: кортеж\n",
    "# возвращаемые значения: другой кортеж\n",
    "def update_tuple(t):\n",
    "    t = ('другой', 'кортеж')\n",
    "    return t"
   ]
  },
  {
   "cell_type": "code",
   "execution_count": 6,
   "metadata": {
    "colab": {
     "base_uri": "https://localhost:8080/",
     "height": 50
    },
    "executionInfo": {
     "elapsed": 1759,
     "status": "ok",
     "timestamp": 1599593961301,
     "user": {
      "displayName": "Анна Шишкова",
      "photoUrl": "https://lh3.googleusercontent.com/a-/AOh14GglV7trPMOxrljX4T6wMrrbCXnSq4k4bMlUL6q9xQ=s64",
      "userId": "05776018689746249823"
     },
     "user_tz": -180
    },
    "id": "-NiL6sYdNk_b",
    "outputId": "cdabb7ee-ab35-4233-dc39-c12522ff7627"
   },
   "outputs": [
    {
     "name": "stdout",
     "output_type": "stream",
     "text": [
      "t2: ('другой', 'кортеж')\n",
      "t1: ('исходный', 'кортеж')\n"
     ]
    }
   ],
   "source": [
    "t1 = ('исходный', 'кортеж')      \n",
    "t2 = update_tuple(t1) \n",
    "print('t2:', t2)    \n",
    "print('t1:', t1) # исходный кортеж не изменился"
   ]
  },
  {
   "cell_type": "code",
   "execution_count": 7,
   "metadata": {
    "id": "0sOSqFf8N8Ok"
   },
   "outputs": [],
   "source": [
    "# определяем функцию, которая будет обновлять число \n",
    "# входные параметры: число (целое или дробное)\n",
    "# возвращаемые значения: то же число, умноженное на два\n",
    "def update_number(n):\n",
    "    n *= 2 # другой вариант записи: n = n * 2\n",
    "    return n"
   ]
  },
  {
   "cell_type": "code",
   "execution_count": 8,
   "metadata": {
    "colab": {
     "base_uri": "https://localhost:8080/",
     "height": 50
    },
    "executionInfo": {
     "elapsed": 1717,
     "status": "ok",
     "timestamp": 1599593961304,
     "user": {
      "displayName": "Анна Шишкова",
      "photoUrl": "https://lh3.googleusercontent.com/a-/AOh14GglV7trPMOxrljX4T6wMrrbCXnSq4k4bMlUL6q9xQ=s64",
      "userId": "05776018689746249823"
     },
     "user_tz": -180
    },
    "id": "VYLFwZdYOi6l",
    "outputId": "35cf5bd5-4de8-471a-da5c-e37be2f99255"
   },
   "outputs": [
    {
     "name": "stdout",
     "output_type": "stream",
     "text": [
      "n2: 10\n",
      "n1: 5\n"
     ]
    }
   ],
   "source": [
    "n1 = 5      \n",
    "n2 = update_number(n1) # вызовем функцию для целого числа\n",
    "print('n2:', n2)      \n",
    "print('n1:', n1)       "
   ]
  },
  {
   "cell_type": "code",
   "execution_count": 9,
   "metadata": {
    "colab": {
     "base_uri": "https://localhost:8080/",
     "height": 50
    },
    "executionInfo": {
     "elapsed": 1709,
     "status": "ok",
     "timestamp": 1599593961306,
     "user": {
      "displayName": "Анна Шишкова",
      "photoUrl": "https://lh3.googleusercontent.com/a-/AOh14GglV7trPMOxrljX4T6wMrrbCXnSq4k4bMlUL6q9xQ=s64",
      "userId": "05776018689746249823"
     },
     "user_tz": -180
    },
    "id": "tbuZafpJOupM",
    "outputId": "0e4efea4-cc7a-4079-efe4-b7e02a3b1ec0"
   },
   "outputs": [
    {
     "name": "stdout",
     "output_type": "stream",
     "text": [
      "n4: 14.4\n",
      "n3: 7.2\n"
     ]
    }
   ],
   "source": [
    "n3 = 7.2      \n",
    "n4 = update_number(n3) # вызовем функцию для дробного числа\n",
    "print('n4:', n4)      \n",
    "print('n3:', n3)       "
   ]
  },
  {
   "cell_type": "markdown",
   "metadata": {
    "id": "jZMOpxu3PCi-"
   },
   "source": [
    "### Передача списков, словарей, множеств\n",
    "Рассмотрим, как передаются в функции списки, словари и множества."
   ]
  },
  {
   "cell_type": "code",
   "execution_count": 10,
   "metadata": {
    "id": "ejKitKFdPNsu"
   },
   "outputs": [],
   "source": [
    "# определяем функцию, которая будет обновлять список  \n",
    "# входные параметры: список\n",
    "# возвращаемые значения: список, к которому добавлен элемент '+ добавка' \n",
    "def update_list(L):\n",
    "    L.append('+ добавка')\n",
    "    return L"
   ]
  },
  {
   "cell_type": "code",
   "execution_count": 12,
   "metadata": {
    "colab": {
     "base_uri": "https://localhost:8080/",
     "height": 50
    },
    "executionInfo": {
     "elapsed": 1695,
     "status": "ok",
     "timestamp": 1599593961308,
     "user": {
      "displayName": "Анна Шишкова",
      "photoUrl": "https://lh3.googleusercontent.com/a-/AOh14GglV7trPMOxrljX4T6wMrrbCXnSq4k4bMlUL6q9xQ=s64",
      "userId": "05776018689746249823"
     },
     "user_tz": -180
    },
    "id": "34i88Vf9PXOP",
    "outputId": "354a4819-c857-46de-d809-04ecfd2c2595"
   },
   "outputs": [
    {
     "name": "stdout",
     "output_type": "stream",
     "text": [
      "list2: ['исходный', 'список', '+ добавка']\n",
      "list1: ['исходный', 'список', '+ добавка']\n"
     ]
    }
   ],
   "source": [
    "list1 = ['исходный', 'список']       \n",
    "list2 = update_list(list1)          \n",
    "print('list2:', list2)             \n",
    "print('list1:', list1) # исходный список изменился           "
   ]
  },
  {
   "cell_type": "code",
   "execution_count": 13,
   "metadata": {
    "id": "t99hpTKuPbvB"
   },
   "outputs": [],
   "source": [
    "# определяем функцию, которая будет обновлять множество  \n",
    "# входные параметры: множество\n",
    "# возвращаемые значения: множество, к которому добавлен элемент '+ добавка' \n",
    "def update_set(s):\n",
    "    s.add('+ добавка')\n",
    "    return s"
   ]
  },
  {
   "cell_type": "code",
   "execution_count": 14,
   "metadata": {
    "colab": {
     "base_uri": "https://localhost:8080/",
     "height": 50
    },
    "executionInfo": {
     "elapsed": 1681,
     "status": "ok",
     "timestamp": 1599593961311,
     "user": {
      "displayName": "Анна Шишкова",
      "photoUrl": "https://lh3.googleusercontent.com/a-/AOh14GglV7trPMOxrljX4T6wMrrbCXnSq4k4bMlUL6q9xQ=s64",
      "userId": "05776018689746249823"
     },
     "user_tz": -180
    },
    "id": "uXY7X0kHQAne",
    "outputId": "6bb9660c-7f39-48d5-8395-020a2838b151"
   },
   "outputs": [
    {
     "name": "stdout",
     "output_type": "stream",
     "text": [
      "s2: {'множество', '+ добавка', 'исходное'}\n",
      "s1: {'множество', '+ добавка', 'исходное'}\n"
     ]
    }
   ],
   "source": [
    "s1 = {'исходное', 'множество'}\n",
    "s2 = update_set(s1)          \n",
    "print('s2:', s2)             \n",
    "print('s1:', s1) # исходное множество изменилось                 "
   ]
  },
  {
   "cell_type": "code",
   "execution_count": null,
   "metadata": {
    "id": "lIi-RLHoQMo8"
   },
   "outputs": [],
   "source": [
    "# определяем функцию, которая будет обновлять словарь  \n",
    "# входные параметры: словарь\n",
    "# возвращаемые значения: словарь, к которому добавлен доп.ключ и доп.значение\n",
    "def update_dict(d):\n",
    "    d['доп.ключ'] = 'доп.значение'\n",
    "    return d"
   ]
  },
  {
   "cell_type": "code",
   "execution_count": null,
   "metadata": {
    "colab": {
     "base_uri": "https://localhost:8080/",
     "height": 50
    },
    "executionInfo": {
     "elapsed": 1667,
     "status": "ok",
     "timestamp": 1599593961313,
     "user": {
      "displayName": "Анна Шишкова",
      "photoUrl": "https://lh3.googleusercontent.com/a-/AOh14GglV7trPMOxrljX4T6wMrrbCXnSq4k4bMlUL6q9xQ=s64",
      "userId": "05776018689746249823"
     },
     "user_tz": -180
    },
    "id": "VRAYgGSPQiDp",
    "outputId": "74f67231-40da-4260-8675-0f03e44d5eb6"
   },
   "outputs": [
    {
     "name": "stdout",
     "output_type": "stream",
     "text": [
      "d2: {'ключ 1': 'значение 1', 'ключ 2': 'значение 2', 'доп.ключ': 'доп.значение'}\n",
      "d1: {'ключ 1': 'значение 1', 'ключ 2': 'значение 2', 'доп.ключ': 'доп.значение'}\n"
     ]
    }
   ],
   "source": [
    "d1 = {'ключ 1': 'значение 1', 'ключ 2': 'значение 2' }\n",
    "d2 = update_dict(d1)          \n",
    "print('d2:', d2)             \n",
    "print('d1:', d1) # исходный словарь изменился          "
   ]
  },
  {
   "cell_type": "markdown",
   "metadata": {},
   "source": [
    "### Модули"
   ]
  },
  {
   "cell_type": "code",
   "execution_count": 68,
   "metadata": {},
   "outputs": [
    {
     "name": "stdout",
     "output_type": "stream",
     "text": [
      "5.0\n"
     ]
    }
   ],
   "source": [
    "import math # импорт модуля math с дополнительными математическими фукнцяими\n",
    "print(math.sqrt(25)) # вызов функции из модуля"
   ]
  },
  {
   "cell_type": "code",
   "execution_count": 67,
   "metadata": {},
   "outputs": [
    {
     "name": "stdout",
     "output_type": "stream",
     "text": [
      "0123456789\n",
      "!\"#$%&'()*+,-./:;<=>?@[\\]^_`{|}~\n"
     ]
    }
   ],
   "source": [
    "import string # модуль string содержит много переменных с подмножествами символов\n",
    "print(string.digits) # все цифры\n",
    "print(string.punctuation) # все знаки препинания"
   ]
  },
  {
   "cell_type": "markdown",
   "metadata": {},
   "source": [
    "### Работа с файлом"
   ]
  },
  {
   "cell_type": "markdown",
   "metadata": {},
   "source": [
    "Чтобы файл открылся без указания полного пути (только по названию) -- он должен лежать в той же папке, что и файл с кодом Python. На платформе online.hse.ru, чтобы считать файл, обязательно нужно указывать только название файла без полного пути (см. примеры).\n",
    "\n",
    "Также не забывайте указывать кодировку `encoding='UTF-8'`, чтобы не было проблем с кириллицей.\n",
    "\n",
    "Мы открываем файл с помощью конструкции `with open() as`, которая потом и закрывает файл.\n",
    "\n",
    "Мы используем  три режима открытия файлов:\n",
    "1. `mode='r'` — _read,  **чтение**_. При отсутствии указанного файла выдается ошибка. Это режим по умолчанию.\n",
    "1. `mode='w'` — _write, **запись**_. При отсутствии указанного файла создается новый. При наличии файла содержимое перезаписывается.\n",
    "1. `mode='a'` — _append, **дозапись**_. При отсутствии указанного файла создается новый. При наличии файла новое содержимое дозаписывается после имеющегося."
   ]
  },
  {
   "cell_type": "code",
   "execution_count": 70,
   "metadata": {},
   "outputs": [
    {
     "name": "stdout",
     "output_type": "stream",
     "text": [
      "Привет! Это первая строка в файле.\n",
      "А это вторая строка.\n",
      "\n",
      "Третья строка была пустой, а это уже четвертая строка.\n",
      "\n"
     ]
    }
   ],
   "source": [
    "# считываем текст из файла в строку, способ 1\n",
    "\n",
    "text = ''                # создаем пустую строку, в которой будем хранить текст из файла\n",
    "with open('text_file.txt', encoding='UTF-8') as infile:\n",
    "    for line in infile:  # сохраняем поочередно каждую строку файла infile в переменную line,\n",
    "        text += line     # добавляем новую строку к переменной text\n",
    "\n",
    "print(text) "
   ]
  },
  {
   "cell_type": "code",
   "execution_count": 71,
   "metadata": {},
   "outputs": [
    {
     "name": "stdout",
     "output_type": "stream",
     "text": [
      "Привет! Это первая строка в файле.\n",
      "А это вторая строка.\n",
      "\n",
      "Третья строка была пустой, а это уже четвертая строка.\n",
      "\n"
     ]
    }
   ],
   "source": [
    "# считываем текст из файла в строку, способ 2\n",
    "\n",
    "with open('text_file.txt', encoding='UTF-8') as infile:\n",
    "    text = infile.read()\n",
    "\n",
    "print(text)"
   ]
  },
  {
   "cell_type": "code",
   "execution_count": 72,
   "metadata": {},
   "outputs": [
    {
     "name": "stdout",
     "output_type": "stream",
     "text": [
      "['Привет! Это первая строка в файле.', 'А это вторая строка.', '', 'Третья строка была пустой, а это уже четвертая строка.']\n"
     ]
    }
   ],
   "source": [
    "# считываем строки из файла в список, способ 1\n",
    "\n",
    "lines = [] # создаем пустой список\n",
    "with open('text_file.txt', encoding='UTF-8') as infile:\n",
    "    for line in infile: # проходимся по файлу построчно\n",
    "        lines.append(line.strip()) # добавляем строку + удаляем знак перехода на новую строку\n",
    "print(lines)"
   ]
  },
  {
   "cell_type": "code",
   "execution_count": 74,
   "metadata": {},
   "outputs": [
    {
     "name": "stdout",
     "output_type": "stream",
     "text": [
      "['Привет! Это первая строка в файле.\\n', 'А это вторая строка.\\n', '\\n', 'Третья строка была пустой, а это уже четвертая строка.\\n']\n"
     ]
    }
   ],
   "source": [
    "# считываем строки из файла в список, способ 2\n",
    "\n",
    "lines = [] # создаем пустой список\n",
    "with open('text_file.txt', encoding='UTF-8') as infile:\n",
    "    lines = infile.readlines()\n",
    "\n",
    "# обратите внимание, в этом способе сохранился знак перехода на новую строку \n",
    "# и надо будет его почистить позже, если это важно для задачи    \n",
    "print(lines) "
   ]
  },
  {
   "cell_type": "code",
   "execution_count": 78,
   "metadata": {},
   "outputs": [
    {
     "name": "stdout",
     "output_type": "stream",
     "text": [
      "[['Фамилия', 'Имя', 'Отчество', 'год рождения'], ['Иванов', 'Иван', 'Иванович', '1980'], ['Петрова', 'Ирина', 'Михайловна', '2000']]\n"
     ]
    }
   ],
   "source": [
    "# считать файл .csv и разбить по разделителям\n",
    "\n",
    "lines = []\n",
    "\n",
    "with open('csv_file.csv', encoding='UTF-8') as infile: # открываем файл под псевдонимом\n",
    "    for line in infile:  # сохраняем поочередно каждую строку файла infile в переменную line,\n",
    "        lines.append(line.strip().split(', ')) # добавляем в список строку + избавляемся от \\n + разбиваем по ', '\n",
    "        \n",
    "print(lines)"
   ]
  },
  {
   "cell_type": "code",
   "execution_count": 80,
   "metadata": {},
   "outputs": [],
   "source": [
    "# запись в файл -- создается новый файл (или затирается старый с таким же именем) и записываются данные\n",
    "\n",
    "important_text = 'Это очень важный текст. В нем даже несколько строк. \\nОни отделены переносом строки.'\n",
    "with open('info.txt', 'w', encoding='UTF-8') as outfile:    # открываем файл, указываем, что это файл для записи: 'w', можем явно указать кодировку\n",
    "    print(important_text, file=outfile)"
   ]
  },
  {
   "cell_type": "code",
   "execution_count": 82,
   "metadata": {},
   "outputs": [],
   "source": [
    "# дозапись в файл -- открывается существующий файл и в его конец дозаписывается текст\n",
    "\n",
    "important_text_3 = 'Это третий важный текст. Надеемся, что он запишется после второго'\n",
    "with open('info.txt', 'a', encoding='UTF-8') as outfile: # открываем тот же файл, указываем, что это файл для ДОзаписи: 'a' (append)\n",
    "    print(important_text_3, file=outfile) "
   ]
  }
 ],
 "metadata": {
  "kernelspec": {
   "display_name": "Python 3",
   "language": "python",
   "name": "python3"
  },
  "language_info": {
   "codemirror_mode": {
    "name": "ipython",
    "version": 3
   },
   "file_extension": ".py",
   "mimetype": "text/x-python",
   "name": "python",
   "nbconvert_exporter": "python",
   "pygments_lexer": "ipython3",
   "version": "3.8.5"
  }
 },
 "nbformat": 4,
 "nbformat_minor": 4
}
